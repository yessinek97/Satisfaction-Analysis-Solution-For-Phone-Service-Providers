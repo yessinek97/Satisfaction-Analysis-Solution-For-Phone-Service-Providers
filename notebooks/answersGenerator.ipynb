{
 "cells": [
  {
   "cell_type": "code",
   "execution_count": 8,
   "metadata": {},
   "outputs": [
    {
     "data": {
      "text/html": [
       "<style>.container { width:100% !important; }</style>"
      ],
      "text/plain": [
       "<IPython.core.display.HTML object>"
      ]
     },
     "metadata": {},
     "output_type": "display_data"
    }
   ],
   "source": [
    "import pandas as pd\n",
    "import numpy as np\n",
    "from IPython.core.display import display, HTML\n",
    "from pandas import ExcelWriter\n",
    "\n",
    "missing_values = [\"n/a\", \"na\", \"--\", \" \",\"\",\"NaN\", \"nan\", None]\n",
    "pd.set_option('display.max_columns', None, 'display.max_rows', None)\n",
    "dfForEncodedAnswers = pd.read_excel(\"dfForEncodedAnswers.xls\")\n",
    "dfForTextAnswers = pd.read_excel(\"dfForTextAnswers.xls\")\n",
    "indicatedData = pd.read_excel(\"indicatedData.xls\")\n",
    "\n",
    "display(HTML(\"<style>.container { width:100% !important; }</style>\"))"
   ]
  },
  {
   "cell_type": "code",
   "execution_count": 9,
   "metadata": {},
   "outputs": [
    {
     "data": {
      "text/plain": [
       "(0, 10)"
      ]
     },
     "execution_count": 9,
     "metadata": {},
     "output_type": "execute_result"
    }
   ],
   "source": [
    "dfForEncodedAnswers.drop(['Unnamed: 0'], axis=1, inplace=True)\n",
    "dfForTextAnswers.drop(['Unnamed: 0'], axis=1, inplace=True)\n",
    "\n",
    "dimensions = ['Date','Region','Operateur','Service','Entreprise','Type Commercial','Question','Type Reponse','Reponse TXT','Reponse ENC']\n",
    "answers = pd.DataFrame(columns=dimensions)\n",
    "answers.shape"
   ]
  },
  {
   "cell_type": "code",
   "execution_count": 10,
   "metadata": {},
   "outputs": [],
   "source": [
    "typeRepMultiple = []\n",
    "typeRepNormal = []\n",
    "for col in dfForTextAnswers.columns:\n",
    "    if(dfForTextAnswers[col].dtype == 'object'):\n",
    "        typeRepNormal.append(col)\n",
    "toRemove = []\n",
    "toRemove.append('3 - [4] S0.1 Code ville')\n",
    "toRemove.append('7 - [14] Date de passation du questionnaire')\n",
    "toRemove.append('10 - [15] S1ter. Dans quel secteur d’activité travaillez-vous ?')\n",
    "toRemove.append(\"15 - [20] S5. Et quel est l’opérateur principal, c'est-à-dire, l’opérateur mobile chez qui vous avez souscrit le plus de lignes mobiles ? \")\n",
    "toRemove.append('40 - [49] Q05B. Par quels principaux moyens avez-vous trouvé les informations que vous recherchiez ?')\n",
    "toRemove.append('42 - [52] Q05C. Par quels principaux moyens avez-vous reçu ces informations de la part de votre opérateur ?')\n",
    "toRemove.append('47 - [59] Q07B. Pour cette démarche, avez-vous…')\n",
    "\n",
    "\n",
    "columnsArray = []\n",
    "for col in dfForTextAnswers.columns :\n",
    "    columnsArray.append(col)\n",
    "\n",
    "for toRm in toRemove:\n",
    "    typeRepNormal.remove(toRm)\n",
    "    columnsArray.remove(toRm)\n",
    "\n",
    "typeRepMultiple.append('40 - [49] Q05B. Par quels principaux moyens avez-vous trouvé les informations que vous recherchiez ?')\n",
    "typeRepMultiple.append('42 - [52] Q05C. Par quels principaux moyens avez-vous reçu ces informations de la part de votre opérateur ?')\n",
    "columnsArray.append('40 - [49] Q05B. Par quels principaux moyens avez-vous trouvé les informations que vous recherchiez ?')\n",
    "columnsArray.append('42 - [52] Q05C. Par quels principaux moyens avez-vous reçu ces informations de la part de votre opérateur ?')\n",
    "\n",
    "columns = pd.DataFrame(columnsArray, columns=['question'])\n",
    "\n",
    "writer = ExcelWriter('indicatedQuestions.xls')\n",
    "columns.to_excel(writer,'columns')\n",
    "writer.save()"
   ]
  },
  {
   "cell_type": "code",
   "execution_count": 11,
   "metadata": {},
   "outputs": [],
   "source": [
    "entry=[]\n",
    "question=''\n",
    "repText=''\n",
    "repEnc=''\n",
    "commR1 = ''\n",
    "commR2 = ''\n",
    "typeComm =''\n",
    "typeRep = ''\n",
    "typeService =''\n",
    "rowNum = 0\n",
    "\n",
    "for i in range(1,len(dfForEncodedAnswers)):\n",
    "    rowNum += 1\n",
    "    commR1 = dfForEncodedAnswers.at[i,'48 - [61] Q08.Globalement, sur une échelle de 1 à 10, comment évaluez-vous la visite de ce commercial?']\n",
    "    commR2 = dfForEncodedAnswers.at[i,'53 - [66] Q11.1 L’accueil privilégié en tant que client entreprise']\n",
    "    if( (commR1 != 999) and (commR2 != 999) ):\n",
    "        typeComm = 'Les Deux'\n",
    "    elif( (commR1 != 999) and (commR2 == 999) ):\n",
    "        typeComm = 'Agent Commercial'\n",
    "    elif( (commR1 == 999) and (commR2 != 999) ):\n",
    "        typeComm = 'Visite'\n",
    "    else :\n",
    "        typeComm = 'Aucun'\n",
    "    \n",
    "    date= dfForEncodedAnswers['7 - [14] Date de passation du questionnaire'][i]\n",
    "    region = dfForEncodedAnswers['3 - [4] S0.1 Code ville'][i]\n",
    "    oper= dfForEncodedAnswers['15 - [20] S5. Et quel est l’opérateur principal, c\\'est-à-dire, l’opérateur mobile chez qui vous avez souscrit le plus de lignes mobiles ? '][i]\n",
    "    secteur= dfForEncodedAnswers['10 - [15] S1ter. Dans quel secteur d’activité travaillez-vous ?'][i]\n",
    "    \n",
    "    \n",
    "    for j in range(5,len(dfForEncodedAnswers.columns)):\n",
    "        rep = dfForEncodedAnswers.columns[j]\n",
    "        if(rep in typeRepNormal):\n",
    "            typeRep = 'Normal'\n",
    "        elif(rep in typeRepMultiple):\n",
    "            typeRep = 'Choix Multiple'\n",
    "        else:\n",
    "            typeRep = 'Recommandation'\n",
    "        \n",
    "        if(j>=7 and len(indicatedData)):\n",
    "            questionTmp = indicatedData.at[j-7, indicatedData.columns[1]]\n",
    "            if (\"roaming\" in questionTmp):\n",
    "                typeService = 'Service Roaming'\n",
    "            elif(\"[service internet]\" in questionTmp):\n",
    "                typeService = 'Service Internet'\n",
    "            elif(\"[Facturation]\" in questionTmp):\n",
    "                typeService = 'Service Facturation'\n",
    "            elif(\"[service telephonique]\" in questionTmp):\n",
    "                typeService = 'Service Telephonique'\n",
    "            elif(\"[paiement]\" in questionTmp):\n",
    "                typeService = 'Service Paiement'\n",
    "            else :\n",
    "                typeService = 'Autres'\n",
    "\n",
    "                       \n",
    "        if not pd.isna(dfForTextAnswers.at[i,dfForTextAnswers.columns[j]]):\n",
    "                                   \n",
    "            repText= dfForTextAnswers.at[i,dfForTextAnswers.columns[j]]\n",
    "            repEnc = dfForEncodedAnswers.at[i, dfForEncodedAnswers.columns[j]]\n",
    "            question=dfForEncodedAnswers.columns[j]\n",
    "            entry= [date, region, oper, typeService, secteur,typeComm, question,typeRep, repText,repEnc]\n",
    "            answers.loc[len(answers)]= entry \n",
    "            \n"
   ]
  },
  {
   "cell_type": "code",
   "execution_count": 12,
   "metadata": {},
   "outputs": [],
   "source": [
    "answers.loc[answers['Service'] == '', ['Service'] ] = 'Autres'"
   ]
  },
  {
   "cell_type": "code",
   "execution_count": 13,
   "metadata": {},
   "outputs": [],
   "source": [
    "for i in range(len(answers)):\n",
    "    answers.at[i,'Reponse TXT'] = str(answers.at[i,'Reponse TXT'])"
   ]
  },
  {
   "cell_type": "code",
   "execution_count": 39,
   "metadata": {},
   "outputs": [],
   "source": [
    "firstPartAnswers = answers.drop(range(0,35000))\n",
    "secondPartAnswers = answers.drop(range(35001, len(answers)))"
   ]
  },
  {
   "cell_type": "code",
   "execution_count": 42,
   "metadata": {},
   "outputs": [],
   "source": [
    "writer = ExcelWriter('FirstPartAnswers.xls')\n",
    "firstPartAnswers.to_excel(writer,'firstPart')\n",
    "writer.save()\n",
    "\n",
    "writer = ExcelWriter('SecondPartAnswers.xls')\n",
    "secondPartAnswers.to_excel(writer,'secondPart')\n",
    "writer.save()"
   ]
  },
  {
   "cell_type": "code",
   "execution_count": 62,
   "metadata": {},
   "outputs": [
    {
     "data": {
      "text/plain": [
       "array(['40 - [49] Q05B. Par quels principaux moyens avez-vous trouvé les informations que vous recherchiez ?',\n",
       "       '42 - [52] Q05C. Par quels principaux moyens avez-vous reçu ces informations de la part de votre opérateur ?'],\n",
       "      dtype=object)"
      ]
     },
     "execution_count": 62,
     "metadata": {},
     "output_type": "execute_result"
    }
   ],
   "source": [
    "answers['Reponse TXT'].loc[answers['Reponse ENC'] == 107].unique()\n",
    "answers['Question'].loc[answers['Reponse ENC'] == 107].unique()"
   ]
  },
  {
   "cell_type": "code",
   "execution_count": 57,
   "metadata": {},
   "outputs": [
    {
     "data": {
      "text/plain": [
       "Index(['Date', 'Region', 'Operateur', 'Service', 'Entreprise',\n",
       "       'Type Commercial', 'Question', 'Type Reponse', 'Reponse TXT',\n",
       "       'Reponse ENC'],\n",
       "      dtype='object')"
      ]
     },
     "execution_count": 57,
     "metadata": {},
     "output_type": "execute_result"
    }
   ],
   "source": [
    "answers.columns"
   ]
  },
  {
   "cell_type": "code",
   "execution_count": 40,
   "metadata": {},
   "outputs": [],
   "source": []
  },
  {
   "cell_type": "code",
   "execution_count": null,
   "metadata": {},
   "outputs": [],
   "source": []
  },
  {
   "cell_type": "code",
   "execution_count": null,
   "metadata": {},
   "outputs": [],
   "source": []
  }
 ],
 "metadata": {
  "kernelspec": {
   "display_name": "Python 3",
   "language": "python",
   "name": "python3"
  },
  "language_info": {
   "codemirror_mode": {
    "name": "ipython",
    "version": 3
   },
   "file_extension": ".py",
   "mimetype": "text/x-python",
   "name": "python",
   "nbconvert_exporter": "python",
   "pygments_lexer": "ipython3",
   "version": "3.8.3"
  }
 },
 "nbformat": 4,
 "nbformat_minor": 2
}
