{
 "cells": [
  {
   "cell_type": "code",
   "execution_count": 1,
   "metadata": {
    "executionInfo": {
     "elapsed": 2739,
     "status": "ok",
     "timestamp": 1620707603926,
     "user": {
      "displayName": "Yessine Khanfir",
      "photoUrl": "",
      "userId": "05108825537813101328"
     },
     "user_tz": -120
    },
    "id": "3eqTU5lKSCsm"
   },
   "outputs": [],
   "source": [
    "import re\n",
    "import pandas as pd\n",
    "from sklearn.pipeline import Pipeline\n",
    "import tensorflow as tf"
   ]
  },
  {
   "cell_type": "code",
   "execution_count": 2,
   "metadata": {
    "colab": {
     "base_uri": "https://localhost:8080/"
    },
    "executionInfo": {
     "elapsed": 26568,
     "status": "ok",
     "timestamp": 1620707638176,
     "user": {
      "displayName": "Yessine Khanfir",
      "photoUrl": "",
      "userId": "05108825537813101328"
     },
     "user_tz": -120
    },
    "id": "pPKWaiQhRAlE",
    "outputId": "90a54125-fc04-41b3-b802-78d82882cd31"
   },
   "outputs": [
    {
     "name": "stdout",
     "output_type": "stream",
     "text": [
      "Downloading data from https://ai.stanford.edu/~amaas/data/sentiment/aclImdb_v1.tar.gz\n",
      "84131840/84125825 [==============================] - 3s 0us/step\n"
     ]
    }
   ],
   "source": [
    "URL = \"https://ai.stanford.edu/~amaas/data/sentiment/aclImdb_v1.tar.gz\"\n",
    "\n",
    "dataset = tf.keras.utils.get_file(fname=\"aclImdb_v1.tar.gz\", \n",
    "                                  origin=URL,\n",
    "                                  untar=True,\n",
    "                                  cache_dir='.',\n",
    "                                  cache_subdir='')"
   ]
  },
  {
   "cell_type": "code",
   "execution_count": 3,
   "metadata": {
    "colab": {
     "base_uri": "https://localhost:8080/"
    },
    "executionInfo": {
     "elapsed": 34502,
     "status": "ok",
     "timestamp": 1620707647779,
     "user": {
      "displayName": "Yessine Khanfir",
      "photoUrl": "",
      "userId": "05108825537813101328"
     },
     "user_tz": -120
    },
    "id": "dBZ-9kk3SBgq",
    "outputId": "5c22004e-fbed-4336-9cc0-ac7c3fdb242d"
   },
   "outputs": [
    {
     "name": "stdout",
     "output_type": "stream",
     "text": [
      "Found 75000 files belonging to 3 classes.\n",
      "Using 60000 files for training.\n",
      "Found 75000 files belonging to 3 classes.\n",
      "Using 15000 files for validation.\n"
     ]
    }
   ],
   "source": [
    "train = tf.keras.preprocessing.text_dataset_from_directory(\n",
    "    'aclImdb/train', batch_size=30000, validation_split=0.2, \n",
    "    subset='training', seed=123)\n",
    "test = tf.keras.preprocessing.text_dataset_from_directory(\n",
    "    'aclImdb/train', batch_size=30000, validation_split=0.2, \n",
    "    subset='validation', seed=123)"
   ]
  },
  {
   "cell_type": "code",
   "execution_count": 4,
   "metadata": {
    "colab": {
     "base_uri": "https://localhost:8080/",
     "height": 204
    },
    "executionInfo": {
     "elapsed": 42462,
     "status": "ok",
     "timestamp": 1620707658173,
     "user": {
      "displayName": "Yessine Khanfir",
      "photoUrl": "",
      "userId": "05108825537813101328"
     },
     "user_tz": -120
    },
    "id": "ok6ffYUQSkAG",
    "outputId": "0b2f5323-4a92-4ba9-8409-6713174e73cb"
   },
   "outputs": [
    {
     "data": {
      "text/html": [
       "<div>\n",
       "<style scoped>\n",
       "    .dataframe tbody tr th:only-of-type {\n",
       "        vertical-align: middle;\n",
       "    }\n",
       "\n",
       "    .dataframe tbody tr th {\n",
       "        vertical-align: top;\n",
       "    }\n",
       "\n",
       "    .dataframe thead th {\n",
       "        text-align: right;\n",
       "    }\n",
       "</style>\n",
       "<table border=\"1\" class=\"dataframe\">\n",
       "  <thead>\n",
       "    <tr style=\"text-align: right;\">\n",
       "      <th></th>\n",
       "      <th>DATA_COLUMN</th>\n",
       "      <th>LABEL_COLUMN</th>\n",
       "    </tr>\n",
       "  </thead>\n",
       "  <tbody>\n",
       "    <tr>\n",
       "      <th>0</th>\n",
       "      <td>This film resembles in many ways `Enemy of the...</td>\n",
       "      <td>0</td>\n",
       "    </tr>\n",
       "    <tr>\n",
       "      <th>1</th>\n",
       "      <td>Communion is a wonderful film, and one of the ...</td>\n",
       "      <td>1</td>\n",
       "    </tr>\n",
       "    <tr>\n",
       "      <th>2</th>\n",
       "      <td>Fred \"The Hammer\" Williamson delivers another ...</td>\n",
       "      <td>1</td>\n",
       "    </tr>\n",
       "    <tr>\n",
       "      <th>3</th>\n",
       "      <td>Two zany scam artists find it's all HIPS, HIPS...</td>\n",
       "      <td>1</td>\n",
       "    </tr>\n",
       "    <tr>\n",
       "      <th>4</th>\n",
       "      <td>A little of those Spanish spicy movies from la...</td>\n",
       "      <td>1</td>\n",
       "    </tr>\n",
       "  </tbody>\n",
       "</table>\n",
       "</div>"
      ],
      "text/plain": [
       "                                         DATA_COLUMN LABEL_COLUMN\n",
       "0  This film resembles in many ways `Enemy of the...            0\n",
       "1  Communion is a wonderful film, and one of the ...            1\n",
       "2  Fred \"The Hammer\" Williamson delivers another ...            1\n",
       "3  Two zany scam artists find it's all HIPS, HIPS...            1\n",
       "4  A little of those Spanish spicy movies from la...            1"
      ]
     },
     "execution_count": 4,
     "metadata": {
      "tags": []
     },
     "output_type": "execute_result"
    }
   ],
   "source": [
    "for i in train.take(1):\n",
    "    train_feat = i[0].numpy()\n",
    "    train_lab = i[1].numpy()\n",
    "\n",
    "train = pd.DataFrame([train_feat, train_lab]).T\n",
    "train.columns = ['DATA_COLUMN', 'LABEL_COLUMN']\n",
    "train['DATA_COLUMN'] = train['DATA_COLUMN'].str.decode(\"utf-8\")\n",
    "train.loc[train['LABEL_COLUMN'] == 1, ['LABEL_COLUMN']] = 0\n",
    "train.loc[train['LABEL_COLUMN'] == 2, ['LABEL_COLUMN']] = 1\n",
    "train.head()"
   ]
  },
  {
   "cell_type": "code",
   "execution_count": 5,
   "metadata": {
    "colab": {
     "base_uri": "https://localhost:8080/",
     "height": 204
    },
    "executionInfo": {
     "elapsed": 45151,
     "status": "ok",
     "timestamp": 1620707661819,
     "user": {
      "displayName": "Yessine Khanfir",
      "photoUrl": "",
      "userId": "05108825537813101328"
     },
     "user_tz": -120
    },
    "id": "9pCLUEjMSPdX",
    "outputId": "d29c6f92-7ea4-400d-98f1-88d5c238a243"
   },
   "outputs": [
    {
     "data": {
      "text/html": [
       "<div>\n",
       "<style scoped>\n",
       "    .dataframe tbody tr th:only-of-type {\n",
       "        vertical-align: middle;\n",
       "    }\n",
       "\n",
       "    .dataframe tbody tr th {\n",
       "        vertical-align: top;\n",
       "    }\n",
       "\n",
       "    .dataframe thead th {\n",
       "        text-align: right;\n",
       "    }\n",
       "</style>\n",
       "<table border=\"1\" class=\"dataframe\">\n",
       "  <thead>\n",
       "    <tr style=\"text-align: right;\">\n",
       "      <th></th>\n",
       "      <th>DATA_COLUMN</th>\n",
       "      <th>LABEL_COLUMN</th>\n",
       "    </tr>\n",
       "  </thead>\n",
       "  <tbody>\n",
       "    <tr>\n",
       "      <th>0</th>\n",
       "      <td>I first became aware of this via the Blue Unde...</td>\n",
       "      <td>1</td>\n",
       "    </tr>\n",
       "    <tr>\n",
       "      <th>1</th>\n",
       "      <td>I think someone let a group of college kids ge...</td>\n",
       "      <td>1</td>\n",
       "    </tr>\n",
       "    <tr>\n",
       "      <th>2</th>\n",
       "      <td>This movie was bad from the start. The only pu...</td>\n",
       "      <td>0</td>\n",
       "    </tr>\n",
       "    <tr>\n",
       "      <th>3</th>\n",
       "      <td>Unbelievably bad. It's like, you should pardon...</td>\n",
       "      <td>1</td>\n",
       "    </tr>\n",
       "    <tr>\n",
       "      <th>4</th>\n",
       "      <td>A very mediocore show. HHH winning really suck...</td>\n",
       "      <td>1</td>\n",
       "    </tr>\n",
       "  </tbody>\n",
       "</table>\n",
       "</div>"
      ],
      "text/plain": [
       "                                         DATA_COLUMN LABEL_COLUMN\n",
       "0  I first became aware of this via the Blue Unde...            1\n",
       "1  I think someone let a group of college kids ge...            1\n",
       "2  This movie was bad from the start. The only pu...            0\n",
       "3  Unbelievably bad. It's like, you should pardon...            1\n",
       "4  A very mediocore show. HHH winning really suck...            1"
      ]
     },
     "execution_count": 5,
     "metadata": {
      "tags": []
     },
     "output_type": "execute_result"
    }
   ],
   "source": [
    "for j in test.take(1):\n",
    "    test_feat = j[0].numpy()\n",
    "    test_lab = j[1].numpy()\n",
    "\n",
    "test = pd.DataFrame([test_feat, test_lab]).T\n",
    "test.columns = ['DATA_COLUMN', 'LABEL_COLUMN']\n",
    "test['DATA_COLUMN'] = test['DATA_COLUMN'].str.decode(\"utf-8\")\n",
    "test.loc[test['LABEL_COLUMN'] == 1, ['LABEL_COLUMN']] = 0\n",
    "test.loc[test['LABEL_COLUMN'] == 2, ['LABEL_COLUMN']] = 1\n",
    "test.head()"
   ]
  },
  {
   "cell_type": "code",
   "execution_count": 6,
   "metadata": {
    "executionInfo": {
     "elapsed": 26283,
     "status": "ok",
     "timestamp": 1620707662148,
     "user": {
      "displayName": "Yessine Khanfir",
      "photoUrl": "",
      "userId": "05108825537813101328"
     },
     "user_tz": -120
    },
    "id": "NCCuQTX0Tlo1"
   },
   "outputs": [],
   "source": [
    "pos_review =[]\n",
    "neg_review = []\n",
    "for i in range(len(train)):\n",
    "  if train['LABEL_COLUMN'][i] == 1:\n",
    "    pos_review.append(train['DATA_COLUMN'][i])\n",
    "for i in range(len(train)):\n",
    "  if train['LABEL_COLUMN'][i] == 0:\n",
    "    neg_review.append(train['DATA_COLUMN'][i])\n",
    "\n",
    "pos = pd.DataFrame(data=pos_review,columns=['review'])\n",
    "neg = pd.DataFrame(data=neg_review,columns=['review'])"
   ]
  },
  {
   "cell_type": "code",
   "execution_count": 7,
   "metadata": {
    "executionInfo": {
     "elapsed": 25452,
     "status": "ok",
     "timestamp": 1620707662149,
     "user": {
      "displayName": "Yessine Khanfir",
      "photoUrl": "",
      "userId": "05108825537813101328"
     },
     "user_tz": -120
    },
    "id": "YmeOY902TosG"
   },
   "outputs": [],
   "source": [
    "pos_train=[]\n",
    "pos_test =[]\n",
    "neg_train=[]\n",
    "neg_test =[]\n",
    "for i in range(len(pos)):\n",
    "  if i< 5000:\n",
    "    pos_train.append(pos['review'][i])\n",
    "  if i in range(5000,6250):\n",
    "    pos_test.append(pos['review'][i])\n",
    "for i in range(len(neg)):\n",
    "  if i< 5000:\n",
    "    neg_train.append(neg['review'][i])\n",
    "  if i in range(5000,6250):\n",
    "    neg_test.append(neg['review'][i])\n",
    "train_pos = pd.DataFrame(data=pos_train,columns=['commentaire'])\n",
    "train_neg = pd.DataFrame(data=neg_train,columns=['commentaire'])\n",
    "test_pos = pd.DataFrame(data=pos_test,columns=['commentaire'])\n",
    "test_neg = pd.DataFrame(data=neg_test,columns=['commentaire'])"
   ]
  },
  {
   "cell_type": "code",
   "execution_count": 8,
   "metadata": {
    "executionInfo": {
     "elapsed": 900,
     "status": "ok",
     "timestamp": 1620707701565,
     "user": {
      "displayName": "Yessine Khanfir",
      "photoUrl": "",
      "userId": "05108825537813101328"
     },
     "user_tz": -120
    },
    "id": "cLYeax7bUgVx"
   },
   "outputs": [],
   "source": [
    "for i in range(len(test_pos)):\n",
    "   file = open ('english/test/pos/file_pos'+str(i)+'.txt','w')\n",
    "   file.write(str(test_pos['commentaire'][i]))\n",
    "   file.close()"
   ]
  },
  {
   "cell_type": "code",
   "execution_count": 9,
   "metadata": {
    "executionInfo": {
     "elapsed": 710,
     "status": "ok",
     "timestamp": 1620707701787,
     "user": {
      "displayName": "Yessine Khanfir",
      "photoUrl": "",
      "userId": "05108825537813101328"
     },
     "user_tz": -120
    },
    "id": "6eE6Z55bXO8g"
   },
   "outputs": [],
   "source": [
    "for i in range(len(test_neg)):\n",
    "   file = open ('english/test/neg/file_neg'+str(i)+'.txt','w')\n",
    "   file.write(str(test_neg['commentaire'][i]))\n",
    "   file.close()"
   ]
  },
  {
   "cell_type": "code",
   "execution_count": 10,
   "metadata": {
    "executionInfo": {
     "elapsed": 890,
     "status": "ok",
     "timestamp": 1620707702352,
     "user": {
      "displayName": "Yessine Khanfir",
      "photoUrl": "",
      "userId": "05108825537813101328"
     },
     "user_tz": -120
    },
    "id": "L4fyUt3bWfdf"
   },
   "outputs": [],
   "source": [
    "for i in range(len(train_pos)):\n",
    "   file = open ('english/train/pos/file_pos'+str(i)+'.txt','w')\n",
    "   file.write(str(train_pos['commentaire'][i]))\n",
    "   file.close()"
   ]
  },
  {
   "cell_type": "code",
   "execution_count": 11,
   "metadata": {
    "executionInfo": {
     "elapsed": 754,
     "status": "ok",
     "timestamp": 1620707702595,
     "user": {
      "displayName": "Yessine Khanfir",
      "photoUrl": "",
      "userId": "05108825537813101328"
     },
     "user_tz": -120
    },
    "id": "NdhtHJFlYC8B"
   },
   "outputs": [],
   "source": [
    "for i in range(len(train_neg)):\n",
    "   file = open ('english/train/neg/file_neg'+str(i)+'.txt','w')\n",
    "   file.write(str(train_neg['commentaire'][i]))\n",
    "   file.close()"
   ]
  },
  {
   "cell_type": "code",
   "execution_count": 12,
   "metadata": {
    "colab": {
     "base_uri": "https://localhost:8080/"
    },
    "executionInfo": {
     "elapsed": 5884,
     "status": "ok",
     "timestamp": 1620707751973,
     "user": {
      "displayName": "Yessine Khanfir",
      "photoUrl": "",
      "userId": "05108825537813101328"
     },
     "user_tz": -120
    },
    "id": "rAI6qVdQRKOG",
    "outputId": "64b188a4-d254-466b-e17c-dad33c517c19"
   },
   "outputs": [
    {
     "name": "stdout",
     "output_type": "stream",
     "text": [
      "Collecting transformers\n",
      "\u001b[?25l  Downloading https://files.pythonhosted.org/packages/d8/b2/57495b5309f09fa501866e225c84532d1fd89536ea62406b2181933fb418/transformers-4.5.1-py3-none-any.whl (2.1MB)\n",
      "\r\u001b[K     |▏                               | 10kB 20.5MB/s eta 0:00:01\r\u001b[K     |▎                               | 20kB 27.7MB/s eta 0:00:01\r\u001b[K     |▌                               | 30kB 32.6MB/s eta 0:00:01\r\u001b[K     |▋                               | 40kB 30.2MB/s eta 0:00:01\r\u001b[K     |▉                               | 51kB 28.4MB/s eta 0:00:01\r\u001b[K     |█                               | 61kB 30.8MB/s eta 0:00:01\r\u001b[K     |█▏                              | 71kB 27.7MB/s eta 0:00:01\r\u001b[K     |█▎                              | 81kB 28.7MB/s eta 0:00:01\r\u001b[K     |█▍                              | 92kB 30.4MB/s eta 0:00:01\r\u001b[K     |█▋                              | 102kB 28.8MB/s eta 0:00:01\r\u001b[K     |█▊                              | 112kB 28.8MB/s eta 0:00:01\r\u001b[K     |██                              | 122kB 28.8MB/s eta 0:00:01\r\u001b[K     |██                              | 133kB 28.8MB/s eta 0:00:01\r\u001b[K     |██▎                             | 143kB 28.8MB/s eta 0:00:01\r\u001b[K     |██▍                             | 153kB 28.8MB/s eta 0:00:01\r\u001b[K     |██▌                             | 163kB 28.8MB/s eta 0:00:01\r\u001b[K     |██▊                             | 174kB 28.8MB/s eta 0:00:01\r\u001b[K     |██▉                             | 184kB 28.8MB/s eta 0:00:01\r\u001b[K     |███                             | 194kB 28.8MB/s eta 0:00:01\r\u001b[K     |███▏                            | 204kB 28.8MB/s eta 0:00:01\r\u001b[K     |███▍                            | 215kB 28.8MB/s eta 0:00:01\r\u001b[K     |███▌                            | 225kB 28.8MB/s eta 0:00:01\r\u001b[K     |███▋                            | 235kB 28.8MB/s eta 0:00:01\r\u001b[K     |███▉                            | 245kB 28.8MB/s eta 0:00:01\r\u001b[K     |████                            | 256kB 28.8MB/s eta 0:00:01\r\u001b[K     |████▏                           | 266kB 28.8MB/s eta 0:00:01\r\u001b[K     |████▎                           | 276kB 28.8MB/s eta 0:00:01\r\u001b[K     |████▌                           | 286kB 28.8MB/s eta 0:00:01\r\u001b[K     |████▋                           | 296kB 28.8MB/s eta 0:00:01\r\u001b[K     |████▊                           | 307kB 28.8MB/s eta 0:00:01\r\u001b[K     |█████                           | 317kB 28.8MB/s eta 0:00:01\r\u001b[K     |█████                           | 327kB 28.8MB/s eta 0:00:01\r\u001b[K     |█████▎                          | 337kB 28.8MB/s eta 0:00:01\r\u001b[K     |█████▍                          | 348kB 28.8MB/s eta 0:00:01\r\u001b[K     |█████▋                          | 358kB 28.8MB/s eta 0:00:01\r\u001b[K     |█████▊                          | 368kB 28.8MB/s eta 0:00:01\r\u001b[K     |█████▉                          | 378kB 28.8MB/s eta 0:00:01\r\u001b[K     |██████                          | 389kB 28.8MB/s eta 0:00:01\r\u001b[K     |██████▏                         | 399kB 28.8MB/s eta 0:00:01\r\u001b[K     |██████▍                         | 409kB 28.8MB/s eta 0:00:01\r\u001b[K     |██████▌                         | 419kB 28.8MB/s eta 0:00:01\r\u001b[K     |██████▊                         | 430kB 28.8MB/s eta 0:00:01\r\u001b[K     |██████▉                         | 440kB 28.8MB/s eta 0:00:01\r\u001b[K     |███████                         | 450kB 28.8MB/s eta 0:00:01\r\u001b[K     |███████▏                        | 460kB 28.8MB/s eta 0:00:01\r\u001b[K     |███████▎                        | 471kB 28.8MB/s eta 0:00:01\r\u001b[K     |███████▌                        | 481kB 28.8MB/s eta 0:00:01\r\u001b[K     |███████▋                        | 491kB 28.8MB/s eta 0:00:01\r\u001b[K     |███████▉                        | 501kB 28.8MB/s eta 0:00:01\r\u001b[K     |████████                        | 512kB 28.8MB/s eta 0:00:01\r\u001b[K     |████████                        | 522kB 28.8MB/s eta 0:00:01\r\u001b[K     |████████▎                       | 532kB 28.8MB/s eta 0:00:01\r\u001b[K     |████████▍                       | 542kB 28.8MB/s eta 0:00:01\r\u001b[K     |████████▋                       | 552kB 28.8MB/s eta 0:00:01\r\u001b[K     |████████▊                       | 563kB 28.8MB/s eta 0:00:01\r\u001b[K     |█████████                       | 573kB 28.8MB/s eta 0:00:01\r\u001b[K     |█████████                       | 583kB 28.8MB/s eta 0:00:01\r\u001b[K     |█████████▎                      | 593kB 28.8MB/s eta 0:00:01\r\u001b[K     |█████████▍                      | 604kB 28.8MB/s eta 0:00:01\r\u001b[K     |█████████▌                      | 614kB 28.8MB/s eta 0:00:01\r\u001b[K     |█████████▊                      | 624kB 28.8MB/s eta 0:00:01\r\u001b[K     |█████████▉                      | 634kB 28.8MB/s eta 0:00:01\r\u001b[K     |██████████                      | 645kB 28.8MB/s eta 0:00:01\r\u001b[K     |██████████▏                     | 655kB 28.8MB/s eta 0:00:01\r\u001b[K     |██████████▍                     | 665kB 28.8MB/s eta 0:00:01\r\u001b[K     |██████████▌                     | 675kB 28.8MB/s eta 0:00:01\r\u001b[K     |██████████▋                     | 686kB 28.8MB/s eta 0:00:01\r\u001b[K     |██████████▉                     | 696kB 28.8MB/s eta 0:00:01\r\u001b[K     |███████████                     | 706kB 28.8MB/s eta 0:00:01\r\u001b[K     |███████████▏                    | 716kB 28.8MB/s eta 0:00:01\r\u001b[K     |███████████▎                    | 727kB 28.8MB/s eta 0:00:01\r\u001b[K     |███████████▌                    | 737kB 28.8MB/s eta 0:00:01\r\u001b[K     |███████████▋                    | 747kB 28.8MB/s eta 0:00:01\r\u001b[K     |███████████▊                    | 757kB 28.8MB/s eta 0:00:01\r\u001b[K     |████████████                    | 768kB 28.8MB/s eta 0:00:01\r\u001b[K     |████████████                    | 778kB 28.8MB/s eta 0:00:01\r\u001b[K     |████████████▎                   | 788kB 28.8MB/s eta 0:00:01\r\u001b[K     |████████████▍                   | 798kB 28.8MB/s eta 0:00:01\r\u001b[K     |████████████▋                   | 808kB 28.8MB/s eta 0:00:01\r\u001b[K     |████████████▊                   | 819kB 28.8MB/s eta 0:00:01\r\u001b[K     |████████████▉                   | 829kB 28.8MB/s eta 0:00:01\r\u001b[K     |█████████████                   | 839kB 28.8MB/s eta 0:00:01\r\u001b[K     |█████████████▏                  | 849kB 28.8MB/s eta 0:00:01\r\u001b[K     |█████████████▍                  | 860kB 28.8MB/s eta 0:00:01\r\u001b[K     |█████████████▌                  | 870kB 28.8MB/s eta 0:00:01\r\u001b[K     |█████████████▊                  | 880kB 28.8MB/s eta 0:00:01\r\u001b[K     |█████████████▉                  | 890kB 28.8MB/s eta 0:00:01\r\u001b[K     |██████████████                  | 901kB 28.8MB/s eta 0:00:01\r\u001b[K     |██████████████▏                 | 911kB 28.8MB/s eta 0:00:01\r\u001b[K     |██████████████▎                 | 921kB 28.8MB/s eta 0:00:01\r\u001b[K     |██████████████▌                 | 931kB 28.8MB/s eta 0:00:01\r\u001b[K     |██████████████▋                 | 942kB 28.8MB/s eta 0:00:01\r\u001b[K     |██████████████▉                 | 952kB 28.8MB/s eta 0:00:01\r\u001b[K     |███████████████                 | 962kB 28.8MB/s eta 0:00:01\r\u001b[K     |███████████████                 | 972kB 28.8MB/s eta 0:00:01\r\u001b[K     |███████████████▎                | 983kB 28.8MB/s eta 0:00:01\r\u001b[K     |███████████████▍                | 993kB 28.8MB/s eta 0:00:01\r\u001b[K     |███████████████▋                | 1.0MB 28.8MB/s eta 0:00:01\r\u001b[K     |███████████████▊                | 1.0MB 28.8MB/s eta 0:00:01\r\u001b[K     |████████████████                | 1.0MB 28.8MB/s eta 0:00:01\r\u001b[K     |████████████████                | 1.0MB 28.8MB/s eta 0:00:01\r\u001b[K     |████████████████▏               | 1.0MB 28.8MB/s eta 0:00:01\r\u001b[K     |████████████████▍               | 1.1MB 28.8MB/s eta 0:00:01\r\u001b[K     |████████████████▌               | 1.1MB 28.8MB/s eta 0:00:01\r\u001b[K     |████████████████▊               | 1.1MB 28.8MB/s eta 0:00:01\r\u001b[K     |████████████████▉               | 1.1MB 28.8MB/s eta 0:00:01\r\u001b[K     |█████████████████               | 1.1MB 28.8MB/s eta 0:00:01\r\u001b[K     |█████████████████▏              | 1.1MB 28.8MB/s eta 0:00:01\r\u001b[K     |█████████████████▍              | 1.1MB 28.8MB/s eta 0:00:01\r\u001b[K     |█████████████████▌              | 1.1MB 28.8MB/s eta 0:00:01\r\u001b[K     |█████████████████▋              | 1.1MB 28.8MB/s eta 0:00:01\r\u001b[K     |█████████████████▉              | 1.1MB 28.8MB/s eta 0:00:01\r\u001b[K     |██████████████████              | 1.2MB 28.8MB/s eta 0:00:01\r\u001b[K     |██████████████████▏             | 1.2MB 28.8MB/s eta 0:00:01\r\u001b[K     |██████████████████▎             | 1.2MB 28.8MB/s eta 0:00:01\r\u001b[K     |██████████████████▌             | 1.2MB 28.8MB/s eta 0:00:01\r\u001b[K     |██████████████████▋             | 1.2MB 28.8MB/s eta 0:00:01\r\u001b[K     |██████████████████▊             | 1.2MB 28.8MB/s eta 0:00:01\r\u001b[K     |███████████████████             | 1.2MB 28.8MB/s eta 0:00:01\r\u001b[K     |███████████████████             | 1.2MB 28.8MB/s eta 0:00:01\r\u001b[K     |███████████████████▎            | 1.2MB 28.8MB/s eta 0:00:01\r\u001b[K     |███████████████████▍            | 1.2MB 28.8MB/s eta 0:00:01\r\u001b[K     |███████████████████▋            | 1.3MB 28.8MB/s eta 0:00:01\r\u001b[K     |███████████████████▊            | 1.3MB 28.8MB/s eta 0:00:01\r\u001b[K     |███████████████████▉            | 1.3MB 28.8MB/s eta 0:00:01\r\u001b[K     |████████████████████            | 1.3MB 28.8MB/s eta 0:00:01\r\u001b[K     |████████████████████▏           | 1.3MB 28.8MB/s eta 0:00:01\r\u001b[K     |████████████████████▍           | 1.3MB 28.8MB/s eta 0:00:01\r\u001b[K     |████████████████████▌           | 1.3MB 28.8MB/s eta 0:00:01\r\u001b[K     |████████████████████▊           | 1.3MB 28.8MB/s eta 0:00:01\r\u001b[K     |████████████████████▉           | 1.3MB 28.8MB/s eta 0:00:01\r\u001b[K     |█████████████████████           | 1.4MB 28.8MB/s eta 0:00:01\r\u001b[K     |█████████████████████▏          | 1.4MB 28.8MB/s eta 0:00:01\r\u001b[K     |█████████████████████▎          | 1.4MB 28.8MB/s eta 0:00:01\r\u001b[K     |█████████████████████▌          | 1.4MB 28.8MB/s eta 0:00:01\r\u001b[K     |█████████████████████▋          | 1.4MB 28.8MB/s eta 0:00:01\r\u001b[K     |█████████████████████▉          | 1.4MB 28.8MB/s eta 0:00:01\r\u001b[K     |██████████████████████          | 1.4MB 28.8MB/s eta 0:00:01\r\u001b[K     |██████████████████████          | 1.4MB 28.8MB/s eta 0:00:01\r\u001b[K     |██████████████████████▎         | 1.4MB 28.8MB/s eta 0:00:01\r\u001b[K     |██████████████████████▍         | 1.4MB 28.8MB/s eta 0:00:01\r\u001b[K     |██████████████████████▋         | 1.5MB 28.8MB/s eta 0:00:01\r\u001b[K     |██████████████████████▊         | 1.5MB 28.8MB/s eta 0:00:01\r\u001b[K     |███████████████████████         | 1.5MB 28.8MB/s eta 0:00:01\r\u001b[K     |███████████████████████         | 1.5MB 28.8MB/s eta 0:00:01\r\u001b[K     |███████████████████████▏        | 1.5MB 28.8MB/s eta 0:00:01\r\u001b[K     |███████████████████████▍        | 1.5MB 28.8MB/s eta 0:00:01\r\u001b[K     |███████████████████████▌        | 1.5MB 28.8MB/s eta 0:00:01\r\u001b[K     |███████████████████████▊        | 1.5MB 28.8MB/s eta 0:00:01\r\u001b[K     |███████████████████████▉        | 1.5MB 28.8MB/s eta 0:00:01\r\u001b[K     |████████████████████████        | 1.5MB 28.8MB/s eta 0:00:01\r\u001b[K     |████████████████████████▏       | 1.6MB 28.8MB/s eta 0:00:01\r\u001b[K     |████████████████████████▎       | 1.6MB 28.8MB/s eta 0:00:01\r\u001b[K     |████████████████████████▌       | 1.6MB 28.8MB/s eta 0:00:01\r\u001b[K     |████████████████████████▋       | 1.6MB 28.8MB/s eta 0:00:01\r\u001b[K     |████████████████████████▉       | 1.6MB 28.8MB/s eta 0:00:01\r\u001b[K     |█████████████████████████       | 1.6MB 28.8MB/s eta 0:00:01\r\u001b[K     |█████████████████████████▏      | 1.6MB 28.8MB/s eta 0:00:01\r\u001b[K     |█████████████████████████▎      | 1.6MB 28.8MB/s eta 0:00:01\r\u001b[K     |█████████████████████████▍      | 1.6MB 28.8MB/s eta 0:00:01\r\u001b[K     |█████████████████████████▋      | 1.6MB 28.8MB/s eta 0:00:01\r\u001b[K     |█████████████████████████▊      | 1.7MB 28.8MB/s eta 0:00:01\r\u001b[K     |██████████████████████████      | 1.7MB 28.8MB/s eta 0:00:01\r\u001b[K     |██████████████████████████      | 1.7MB 28.8MB/s eta 0:00:01\r\u001b[K     |██████████████████████████▎     | 1.7MB 28.8MB/s eta 0:00:01\r\u001b[K     |██████████████████████████▍     | 1.7MB 28.8MB/s eta 0:00:01\r\u001b[K     |██████████████████████████▋     | 1.7MB 28.8MB/s eta 0:00:01\r\u001b[K     |██████████████████████████▊     | 1.7MB 28.8MB/s eta 0:00:01\r\u001b[K     |██████████████████████████▉     | 1.7MB 28.8MB/s eta 0:00:01\r\u001b[K     |███████████████████████████     | 1.7MB 28.8MB/s eta 0:00:01\r\u001b[K     |███████████████████████████▏    | 1.8MB 28.8MB/s eta 0:00:01\r\u001b[K     |███████████████████████████▍    | 1.8MB 28.8MB/s eta 0:00:01\r\u001b[K     |███████████████████████████▌    | 1.8MB 28.8MB/s eta 0:00:01\r\u001b[K     |███████████████████████████▊    | 1.8MB 28.8MB/s eta 0:00:01\r\u001b[K     |███████████████████████████▉    | 1.8MB 28.8MB/s eta 0:00:01\r\u001b[K     |████████████████████████████    | 1.8MB 28.8MB/s eta 0:00:01\r\u001b[K     |████████████████████████████▏   | 1.8MB 28.8MB/s eta 0:00:01\r\u001b[K     |████████████████████████████▎   | 1.8MB 28.8MB/s eta 0:00:01\r\u001b[K     |████████████████████████████▌   | 1.8MB 28.8MB/s eta 0:00:01\r\u001b[K     |████████████████████████████▋   | 1.8MB 28.8MB/s eta 0:00:01\r\u001b[K     |████████████████████████████▉   | 1.9MB 28.8MB/s eta 0:00:01\r\u001b[K     |█████████████████████████████   | 1.9MB 28.8MB/s eta 0:00:01\r\u001b[K     |█████████████████████████████   | 1.9MB 28.8MB/s eta 0:00:01\r\u001b[K     |█████████████████████████████▎  | 1.9MB 28.8MB/s eta 0:00:01\r\u001b[K     |█████████████████████████████▍  | 1.9MB 28.8MB/s eta 0:00:01\r\u001b[K     |█████████████████████████████▋  | 1.9MB 28.8MB/s eta 0:00:01\r\u001b[K     |█████████████████████████████▊  | 1.9MB 28.8MB/s eta 0:00:01\r\u001b[K     |██████████████████████████████  | 1.9MB 28.8MB/s eta 0:00:01\r\u001b[K     |██████████████████████████████  | 1.9MB 28.8MB/s eta 0:00:01\r\u001b[K     |██████████████████████████████▏ | 1.9MB 28.8MB/s eta 0:00:01\r\u001b[K     |██████████████████████████████▍ | 2.0MB 28.8MB/s eta 0:00:01\r\u001b[K     |██████████████████████████████▌ | 2.0MB 28.8MB/s eta 0:00:01\r\u001b[K     |██████████████████████████████▊ | 2.0MB 28.8MB/s eta 0:00:01\r\u001b[K     |██████████████████████████████▉ | 2.0MB 28.8MB/s eta 0:00:01\r\u001b[K     |███████████████████████████████ | 2.0MB 28.8MB/s eta 0:00:01\r\u001b[K     |███████████████████████████████▏| 2.0MB 28.8MB/s eta 0:00:01\r\u001b[K     |███████████████████████████████▎| 2.0MB 28.8MB/s eta 0:00:01\r\u001b[K     |███████████████████████████████▌| 2.0MB 28.8MB/s eta 0:00:01\r\u001b[K     |███████████████████████████████▋| 2.0MB 28.8MB/s eta 0:00:01\r\u001b[K     |███████████████████████████████▉| 2.0MB 28.8MB/s eta 0:00:01\r\u001b[K     |████████████████████████████████| 2.1MB 28.8MB/s eta 0:00:01\r\u001b[K     |████████████████████████████████| 2.1MB 28.8MB/s \n",
      "\u001b[?25hRequirement already satisfied: regex!=2019.12.17 in /usr/local/lib/python3.7/dist-packages (from transformers) (2019.12.20)\n",
      "Requirement already satisfied: numpy>=1.17 in /usr/local/lib/python3.7/dist-packages (from transformers) (1.19.5)\n",
      "Requirement already satisfied: tqdm>=4.27 in /usr/local/lib/python3.7/dist-packages (from transformers) (4.41.1)\n",
      "Collecting tokenizers<0.11,>=0.10.1\n",
      "\u001b[?25l  Downloading https://files.pythonhosted.org/packages/ae/04/5b870f26a858552025a62f1649c20d29d2672c02ff3c3fb4c688ca46467a/tokenizers-0.10.2-cp37-cp37m-manylinux2010_x86_64.whl (3.3MB)\n",
      "\u001b[K     |████████████████████████████████| 3.3MB 47.8MB/s \n",
      "\u001b[?25hRequirement already satisfied: importlib-metadata; python_version < \"3.8\" in /usr/local/lib/python3.7/dist-packages (from transformers) (3.10.1)\n",
      "Requirement already satisfied: packaging in /usr/local/lib/python3.7/dist-packages (from transformers) (20.9)\n",
      "Collecting sacremoses\n",
      "\u001b[?25l  Downloading https://files.pythonhosted.org/packages/75/ee/67241dc87f266093c533a2d4d3d69438e57d7a90abb216fa076e7d475d4a/sacremoses-0.0.45-py3-none-any.whl (895kB)\n",
      "\u001b[K     |████████████████████████████████| 901kB 33.3MB/s \n",
      "\u001b[?25hRequirement already satisfied: requests in /usr/local/lib/python3.7/dist-packages (from transformers) (2.23.0)\n",
      "Requirement already satisfied: filelock in /usr/local/lib/python3.7/dist-packages (from transformers) (3.0.12)\n",
      "Requirement already satisfied: typing-extensions>=3.6.4; python_version < \"3.8\" in /usr/local/lib/python3.7/dist-packages (from importlib-metadata; python_version < \"3.8\"->transformers) (3.7.4.3)\n",
      "Requirement already satisfied: zipp>=0.5 in /usr/local/lib/python3.7/dist-packages (from importlib-metadata; python_version < \"3.8\"->transformers) (3.4.1)\n",
      "Requirement already satisfied: pyparsing>=2.0.2 in /usr/local/lib/python3.7/dist-packages (from packaging->transformers) (2.4.7)\n",
      "Requirement already satisfied: click in /usr/local/lib/python3.7/dist-packages (from sacremoses->transformers) (7.1.2)\n",
      "Requirement already satisfied: six in /usr/local/lib/python3.7/dist-packages (from sacremoses->transformers) (1.15.0)\n",
      "Requirement already satisfied: joblib in /usr/local/lib/python3.7/dist-packages (from sacremoses->transformers) (1.0.1)\n",
      "Requirement already satisfied: chardet<4,>=3.0.2 in /usr/local/lib/python3.7/dist-packages (from requests->transformers) (3.0.4)\n",
      "Requirement already satisfied: idna<3,>=2.5 in /usr/local/lib/python3.7/dist-packages (from requests->transformers) (2.10)\n",
      "Requirement already satisfied: urllib3!=1.25.0,!=1.25.1,<1.26,>=1.21.1 in /usr/local/lib/python3.7/dist-packages (from requests->transformers) (1.24.3)\n",
      "Requirement already satisfied: certifi>=2017.4.17 in /usr/local/lib/python3.7/dist-packages (from requests->transformers) (2020.12.5)\n",
      "Installing collected packages: tokenizers, sacremoses, transformers\n",
      "Successfully installed sacremoses-0.0.45 tokenizers-0.10.2 transformers-4.5.1\n"
     ]
    }
   ],
   "source": [
    "!pip install transformers"
   ]
  },
  {
   "cell_type": "code",
   "execution_count": 13,
   "metadata": {
    "executionInfo": {
     "elapsed": 8998,
     "status": "ok",
     "timestamp": 1620707755857,
     "user": {
      "displayName": "Yessine Khanfir",
      "photoUrl": "",
      "userId": "05108825537813101328"
     },
     "user_tz": -120
    },
    "id": "w7BL9yP1TcZt"
   },
   "outputs": [],
   "source": [
    "from transformers import BertTokenizer, TFBertForSequenceClassification\n",
    "from transformers import InputExample, InputFeatures"
   ]
  },
  {
   "cell_type": "code",
   "execution_count": 14,
   "metadata": {
    "colab": {
     "base_uri": "https://localhost:8080/",
     "height": 330,
     "referenced_widgets": [
      "4dba7fd62e12409fbf43981b71706606",
      "a41e5020477f437da8c008e1c148779b",
      "ed23c7dec90846af909bb99c0ab90b63",
      "db9c21ba13fb4203b057fe13a0eb72a2",
      "c1e5d355d047457fb04870586a2aca9f",
      "23cef9cdc0d645b78a5ae4dd65f531dc",
      "e3b3919770ab4058bf38d19ec6386d3e",
      "7f978374ca2f4475910451f9c0efed71",
      "6aaaa6d7b58b48489fc725656abb987f",
      "ac2b3ba563e94dd98a57ab9bf0878eb0",
      "7cc68d4d05b4490081880c1ce37daed0",
      "9ddce4eb687345dbb9779a0412187842",
      "b57bc9a4cbcc4214a6a414b18caf2fba",
      "6c14ad6623d74c5c857ad11d6279ef88",
      "6c916d2789524ba59913fb87ad3906b3",
      "d3fef04af3294bf1aaa71aa1cc35bbb5",
      "00a636d388184c659f7428b7dd73bbb7",
      "ebd8b0ed541f4beb83541ae97a5ab5e6",
      "4cc96fd73e174067bd5c9247949b2011",
      "31e3c0ac951b4c52b33dba9f7cffd6c0",
      "3883ab513cc645c5afa6ab7dd6fea2c0",
      "501df631eddc41eaa19b0586cb27821d",
      "d588ebb0fb54499abbf2ce588d0fcfdc",
      "85e355d49e3245fe91ee37fc540dd575",
      "816d6b2218804bba9d12de5a3ca819f6",
      "cf3e038adbff49fe93d2ba3997e180c4",
      "a42f9751f37641c28701c54e59db8344",
      "428d91b06df248d99d79818a2e0e6933",
      "852bd768f9d14f429d7a3c25df40b902",
      "a22c1066e773474f932a7e818e0daee0",
      "1d9ef03ff3684cb4a9f1d05c07ea9975",
      "96960d5028fa4a6e9e570c64e99b4e52",
      "f2b4acb61c774ed9a3e5b371b159e679",
      "b38f0ea3e55a4f21ba515dfcbbdbcff6",
      "709bc391fe1344868c0f656215421b16",
      "a8eac3cad391479b8764fedcf0f03044",
      "b3bf119541bb4888bdc1f573184d4466",
      "d0e3bb83255a4597beaa64462e3da01f",
      "49d3646e2305419aad48017a7d768e96",
      "9993782767dd4f9fbb9fa40582c9c553"
     ]
    },
    "executionInfo": {
     "elapsed": 24029,
     "status": "ok",
     "timestamp": 1620707771503,
     "user": {
      "displayName": "Yessine Khanfir",
      "photoUrl": "",
      "userId": "05108825537813101328"
     },
     "user_tz": -120
    },
    "id": "MkihF2ZniZYi",
    "outputId": "c53d01b1-3ff7-494c-ba52-df6c2aa0307f"
   },
   "outputs": [
    {
     "data": {
      "application/vnd.jupyter.widget-view+json": {
       "model_id": "4dba7fd62e12409fbf43981b71706606",
       "version_major": 2,
       "version_minor": 0
      },
      "text/plain": [
       "HBox(children=(FloatProgress(value=0.0, description='Downloading', max=570.0, style=ProgressStyle(description_…"
      ]
     },
     "metadata": {
      "tags": []
     },
     "output_type": "display_data"
    },
    {
     "name": "stdout",
     "output_type": "stream",
     "text": [
      "\n"
     ]
    },
    {
     "data": {
      "application/vnd.jupyter.widget-view+json": {
       "model_id": "6aaaa6d7b58b48489fc725656abb987f",
       "version_major": 2,
       "version_minor": 0
      },
      "text/plain": [
       "HBox(children=(FloatProgress(value=0.0, description='Downloading', max=536063208.0, style=ProgressStyle(descri…"
      ]
     },
     "metadata": {
      "tags": []
     },
     "output_type": "display_data"
    },
    {
     "name": "stdout",
     "output_type": "stream",
     "text": [
      "\n"
     ]
    },
    {
     "name": "stderr",
     "output_type": "stream",
     "text": [
      "All model checkpoint layers were used when initializing TFBertForSequenceClassification.\n",
      "\n",
      "Some layers of TFBertForSequenceClassification were not initialized from the model checkpoint at bert-base-uncased and are newly initialized: ['classifier']\n",
      "You should probably TRAIN this model on a down-stream task to be able to use it for predictions and inference.\n"
     ]
    },
    {
     "data": {
      "application/vnd.jupyter.widget-view+json": {
       "model_id": "00a636d388184c659f7428b7dd73bbb7",
       "version_major": 2,
       "version_minor": 0
      },
      "text/plain": [
       "HBox(children=(FloatProgress(value=0.0, description='Downloading', max=231508.0, style=ProgressStyle(descripti…"
      ]
     },
     "metadata": {
      "tags": []
     },
     "output_type": "display_data"
    },
    {
     "name": "stdout",
     "output_type": "stream",
     "text": [
      "\n"
     ]
    },
    {
     "data": {
      "application/vnd.jupyter.widget-view+json": {
       "model_id": "816d6b2218804bba9d12de5a3ca819f6",
       "version_major": 2,
       "version_minor": 0
      },
      "text/plain": [
       "HBox(children=(FloatProgress(value=0.0, description='Downloading', max=28.0, style=ProgressStyle(description_w…"
      ]
     },
     "metadata": {
      "tags": []
     },
     "output_type": "display_data"
    },
    {
     "name": "stdout",
     "output_type": "stream",
     "text": [
      "\n"
     ]
    },
    {
     "data": {
      "application/vnd.jupyter.widget-view+json": {
       "model_id": "f2b4acb61c774ed9a3e5b371b159e679",
       "version_major": 2,
       "version_minor": 0
      },
      "text/plain": [
       "HBox(children=(FloatProgress(value=0.0, description='Downloading', max=466062.0, style=ProgressStyle(descripti…"
      ]
     },
     "metadata": {
      "tags": []
     },
     "output_type": "display_data"
    },
    {
     "name": "stdout",
     "output_type": "stream",
     "text": [
      "\n"
     ]
    }
   ],
   "source": [
    "model = TFBertForSequenceClassification.from_pretrained(\"bert-base-uncased\")\n",
    "tokenizer = BertTokenizer.from_pretrained(\"bert-base-uncased\")"
   ]
  },
  {
   "cell_type": "code",
   "execution_count": 15,
   "metadata": {
    "executionInfo": {
     "elapsed": 22547,
     "status": "ok",
     "timestamp": 1620707771504,
     "user": {
      "displayName": "Yessine Khanfir",
      "photoUrl": "",
      "userId": "05108825537813101328"
     },
     "user_tz": -120
    },
    "id": "oafhLmIOibNG"
   },
   "outputs": [],
   "source": [
    "import tensorflow as tf"
   ]
  },
  {
   "cell_type": "code",
   "execution_count": 16,
   "metadata": {
    "colab": {
     "base_uri": "https://localhost:8080/"
    },
    "executionInfo": {
     "elapsed": 21227,
     "status": "ok",
     "timestamp": 1620707772627,
     "user": {
      "displayName": "Yessine Khanfir",
      "photoUrl": "",
      "userId": "05108825537813101328"
     },
     "user_tz": -120
    },
    "id": "cdjGXgI2ieGy",
    "outputId": "2ec74ae2-94be-47c9-bec2-bb0a90dec8dd"
   },
   "outputs": [
    {
     "name": "stdout",
     "output_type": "stream",
     "text": [
      "Found 10000 files belonging to 3 classes.\n",
      "Using 8000 files for training.\n",
      "Found 10000 files belonging to 3 classes.\n",
      "Using 2000 files for validation.\n"
     ]
    }
   ],
   "source": [
    "train = tf.keras.preprocessing.text_dataset_from_directory(\n",
    "    'english/train', batch_size=15000, validation_split=0.2, \n",
    "    subset='training', seed=123)\n",
    "test = tf.keras.preprocessing.text_dataset_from_directory(\n",
    "    'english/train', batch_size=15000, validation_split=0.2, \n",
    "    subset='validation', seed=123)"
   ]
  },
  {
   "cell_type": "code",
   "execution_count": 17,
   "metadata": {
    "colab": {
     "base_uri": "https://localhost:8080/",
     "height": 204
    },
    "executionInfo": {
     "elapsed": 20694,
     "status": "ok",
     "timestamp": 1620707774878,
     "user": {
      "displayName": "Yessine Khanfir",
      "photoUrl": "",
      "userId": "05108825537813101328"
     },
     "user_tz": -120
    },
    "id": "B_KZ07uLirPV",
    "outputId": "079c5c01-83e8-4fa0-b5b6-b15acc95afca"
   },
   "outputs": [
    {
     "data": {
      "text/html": [
       "<div>\n",
       "<style scoped>\n",
       "    .dataframe tbody tr th:only-of-type {\n",
       "        vertical-align: middle;\n",
       "    }\n",
       "\n",
       "    .dataframe tbody tr th {\n",
       "        vertical-align: top;\n",
       "    }\n",
       "\n",
       "    .dataframe thead th {\n",
       "        text-align: right;\n",
       "    }\n",
       "</style>\n",
       "<table border=\"1\" class=\"dataframe\">\n",
       "  <thead>\n",
       "    <tr style=\"text-align: right;\">\n",
       "      <th></th>\n",
       "      <th>DATA_COLUMN</th>\n",
       "      <th>LABEL_COLUMN</th>\n",
       "    </tr>\n",
       "  </thead>\n",
       "  <tbody>\n",
       "    <tr>\n",
       "      <th>0</th>\n",
       "      <td>Nicely done, but no shock and awe here. I can'...</td>\n",
       "      <td>1</td>\n",
       "    </tr>\n",
       "    <tr>\n",
       "      <th>1</th>\n",
       "      <td>The beginning of this movie is excellent with ...</td>\n",
       "      <td>0</td>\n",
       "    </tr>\n",
       "    <tr>\n",
       "      <th>2</th>\n",
       "      <td>I heard a few friends one day saying that \"Sca...</td>\n",
       "      <td>0</td>\n",
       "    </tr>\n",
       "    <tr>\n",
       "      <th>3</th>\n",
       "      <td>Another abortive, pitiful attempt from Solondz...</td>\n",
       "      <td>1</td>\n",
       "    </tr>\n",
       "    <tr>\n",
       "      <th>4</th>\n",
       "      <td>The year is 1896.Jeff Webster (James Stewart) ...</td>\n",
       "      <td>0</td>\n",
       "    </tr>\n",
       "  </tbody>\n",
       "</table>\n",
       "</div>"
      ],
      "text/plain": [
       "                                         DATA_COLUMN LABEL_COLUMN\n",
       "0  Nicely done, but no shock and awe here. I can'...            1\n",
       "1  The beginning of this movie is excellent with ...            0\n",
       "2  I heard a few friends one day saying that \"Sca...            0\n",
       "3  Another abortive, pitiful attempt from Solondz...            1\n",
       "4  The year is 1896.Jeff Webster (James Stewart) ...            0"
      ]
     },
     "execution_count": 17,
     "metadata": {
      "tags": []
     },
     "output_type": "execute_result"
    }
   ],
   "source": [
    "for i in train.take(1):\n",
    "    train_feat = i[0].numpy()\n",
    "    train_lab = i[1].numpy()\n",
    "\n",
    "train = pd.DataFrame([train_feat, train_lab]).T\n",
    "train.columns = ['DATA_COLUMN', 'LABEL_COLUMN']\n",
    "train['DATA_COLUMN'] = train['DATA_COLUMN'].str.decode(\"utf-8\")\n",
    "train.loc[train['LABEL_COLUMN'] == 1, ['LABEL_COLUMN']] = 0\n",
    "train.loc[train['LABEL_COLUMN'] == 2, ['LABEL_COLUMN']] = 1\n",
    "train.head()"
   ]
  },
  {
   "cell_type": "code",
   "execution_count": 18,
   "metadata": {
    "colab": {
     "base_uri": "https://localhost:8080/",
     "height": 204
    },
    "executionInfo": {
     "elapsed": 21586,
     "status": "ok",
     "timestamp": 1620707776309,
     "user": {
      "displayName": "Yessine Khanfir",
      "photoUrl": "",
      "userId": "05108825537813101328"
     },
     "user_tz": -120
    },
    "id": "Ego7iEquizr4",
    "outputId": "6b7e20a6-9d99-44d5-c370-c4d0b2c9385a"
   },
   "outputs": [
    {
     "data": {
      "text/html": [
       "<div>\n",
       "<style scoped>\n",
       "    .dataframe tbody tr th:only-of-type {\n",
       "        vertical-align: middle;\n",
       "    }\n",
       "\n",
       "    .dataframe tbody tr th {\n",
       "        vertical-align: top;\n",
       "    }\n",
       "\n",
       "    .dataframe thead th {\n",
       "        text-align: right;\n",
       "    }\n",
       "</style>\n",
       "<table border=\"1\" class=\"dataframe\">\n",
       "  <thead>\n",
       "    <tr style=\"text-align: right;\">\n",
       "      <th></th>\n",
       "      <th>DATA_COLUMN</th>\n",
       "      <th>LABEL_COLUMN</th>\n",
       "    </tr>\n",
       "  </thead>\n",
       "  <tbody>\n",
       "    <tr>\n",
       "      <th>0</th>\n",
       "      <td>I feel blessed to own what is known as the wor...</td>\n",
       "      <td>0</td>\n",
       "    </tr>\n",
       "    <tr>\n",
       "      <th>1</th>\n",
       "      <td>This film is a pure failure. I am a Steve Mart...</td>\n",
       "      <td>0</td>\n",
       "    </tr>\n",
       "    <tr>\n",
       "      <th>2</th>\n",
       "      <td>Preview: Summary: This one has a trained pengu...</td>\n",
       "      <td>1</td>\n",
       "    </tr>\n",
       "    <tr>\n",
       "      <th>3</th>\n",
       "      <td>Robert Mitchum as Dan Milner does well here, a...</td>\n",
       "      <td>1</td>\n",
       "    </tr>\n",
       "    <tr>\n",
       "      <th>4</th>\n",
       "      <td>So, American Pie: Beta House is the 6th Americ...</td>\n",
       "      <td>0</td>\n",
       "    </tr>\n",
       "  </tbody>\n",
       "</table>\n",
       "</div>"
      ],
      "text/plain": [
       "                                         DATA_COLUMN LABEL_COLUMN\n",
       "0  I feel blessed to own what is known as the wor...            0\n",
       "1  This film is a pure failure. I am a Steve Mart...            0\n",
       "2  Preview: Summary: This one has a trained pengu...            1\n",
       "3  Robert Mitchum as Dan Milner does well here, a...            1\n",
       "4  So, American Pie: Beta House is the 6th Americ...            0"
      ]
     },
     "execution_count": 18,
     "metadata": {
      "tags": []
     },
     "output_type": "execute_result"
    }
   ],
   "source": [
    "for j in test.take(1):\n",
    "    test_feat = j[0].numpy()\n",
    "    test_lab = j[1].numpy()\n",
    "\n",
    "test = pd.DataFrame([test_feat, test_lab]).T\n",
    "test.columns = ['DATA_COLUMN', 'LABEL_COLUMN']\n",
    "test['DATA_COLUMN'] = test['DATA_COLUMN'].str.decode(\"utf-8\")\n",
    "test.loc[test['LABEL_COLUMN'] == 1, ['LABEL_COLUMN']] = 0\n",
    "test.loc[test['LABEL_COLUMN'] == 2, ['LABEL_COLUMN']] = 1\n",
    "test.head()"
   ]
  },
  {
   "cell_type": "code",
   "execution_count": 19,
   "metadata": {
    "colab": {
     "base_uri": "https://localhost:8080/"
    },
    "executionInfo": {
     "elapsed": 20827,
     "status": "ok",
     "timestamp": 1620707776310,
     "user": {
      "displayName": "Yessine Khanfir",
      "photoUrl": "",
      "userId": "05108825537813101328"
     },
     "user_tz": -120
    },
    "id": "D7PWNqjc_wMC",
    "outputId": "c2c74428-e40a-47ba-ed0a-4cf48d77cd19"
   },
   "outputs": [
    {
     "name": "stdout",
     "output_type": "stream",
     "text": [
      "Tue May 11 04:36:13 2021       \n",
      "+-----------------------------------------------------------------------------+\n",
      "| NVIDIA-SMI 465.19.01    Driver Version: 460.32.03    CUDA Version: 11.2     |\n",
      "|-------------------------------+----------------------+----------------------+\n",
      "| GPU  Name        Persistence-M| Bus-Id        Disp.A | Volatile Uncorr. ECC |\n",
      "| Fan  Temp  Perf  Pwr:Usage/Cap|         Memory-Usage | GPU-Util  Compute M. |\n",
      "|                               |                      |               MIG M. |\n",
      "|===============================+======================+======================|\n",
      "|   0  Tesla T4            Off  | 00000000:00:04.0 Off |                    0 |\n",
      "| N/A   61C    P0    29W /  70W |   1406MiB / 15109MiB |      0%      Default |\n",
      "|                               |                      |                  N/A |\n",
      "+-------------------------------+----------------------+----------------------+\n",
      "                                                                               \n",
      "+-----------------------------------------------------------------------------+\n",
      "| Processes:                                                                  |\n",
      "|  GPU   GI   CI        PID   Type   Process name                  GPU Memory |\n",
      "|        ID   ID                                                   Usage      |\n",
      "|=============================================================================|\n",
      "+-----------------------------------------------------------------------------+\n"
     ]
    }
   ],
   "source": [
    "!nvidia-smi"
   ]
  },
  {
   "cell_type": "code",
   "execution_count": 20,
   "metadata": {
    "colab": {
     "base_uri": "https://localhost:8080/"
    },
    "executionInfo": {
     "elapsed": 27443,
     "status": "ok",
     "timestamp": 1620707783430,
     "user": {
      "displayName": "Yessine Khanfir",
      "photoUrl": "",
      "userId": "05108825537813101328"
     },
     "user_tz": -120
    },
    "id": "JWfqhyrv_wiw",
    "outputId": "8251d8c3-67e1-450b-bcda-d13fa62eed36"
   },
   "outputs": [
    {
     "name": "stdout",
     "output_type": "stream",
     "text": [
      "Cloning into 'bert-sklearn'...\n",
      "remote: Enumerating objects: 259, done.\u001b[K\n",
      "remote: Total 259 (delta 0), reused 0 (delta 0), pack-reused 259\u001b[K\n",
      "Receiving objects: 100% (259/259), 516.15 KiB | 17.80 MiB/s, done.\n",
      "Resolving deltas: 100% (131/131), done.\n",
      "Processing /content/bert-sklearn\n",
      "Requirement already satisfied: torch>=0.4.1 in /usr/local/lib/python3.7/dist-packages (from bert-sklearn==0.3.1) (1.8.1+cu101)\n",
      "Requirement already satisfied: scikit-learn in /usr/local/lib/python3.7/dist-packages (from bert-sklearn==0.3.1) (0.22.2.post1)\n",
      "Requirement already satisfied: numpy in /usr/local/lib/python3.7/dist-packages (from bert-sklearn==0.3.1) (1.19.5)\n",
      "Requirement already satisfied: pandas in /usr/local/lib/python3.7/dist-packages (from bert-sklearn==0.3.1) (1.1.5)\n",
      "Collecting boto3\n",
      "\u001b[?25l  Downloading https://files.pythonhosted.org/packages/73/6d/47a187ea163c6e1791faae1fc8e45b584ba0076ca51ce93ff2824a1c8b98/boto3-1.17.70-py2.py3-none-any.whl (131kB)\n",
      "\u001b[K     |████████████████████████████████| 133kB 26.5MB/s \n",
      "\u001b[?25hRequirement already satisfied: requests in /usr/local/lib/python3.7/dist-packages (from bert-sklearn==0.3.1) (2.23.0)\n",
      "Requirement already satisfied: tqdm in /usr/local/lib/python3.7/dist-packages (from bert-sklearn==0.3.1) (4.41.1)\n",
      "Requirement already satisfied: typing-extensions in /usr/local/lib/python3.7/dist-packages (from torch>=0.4.1->bert-sklearn==0.3.1) (3.7.4.3)\n",
      "Requirement already satisfied: joblib>=0.11 in /usr/local/lib/python3.7/dist-packages (from scikit-learn->bert-sklearn==0.3.1) (1.0.1)\n",
      "Requirement already satisfied: scipy>=0.17.0 in /usr/local/lib/python3.7/dist-packages (from scikit-learn->bert-sklearn==0.3.1) (1.4.1)\n",
      "Requirement already satisfied: python-dateutil>=2.7.3 in /usr/local/lib/python3.7/dist-packages (from pandas->bert-sklearn==0.3.1) (2.8.1)\n",
      "Requirement already satisfied: pytz>=2017.2 in /usr/local/lib/python3.7/dist-packages (from pandas->bert-sklearn==0.3.1) (2018.9)\n",
      "Collecting s3transfer<0.5.0,>=0.4.0\n",
      "\u001b[?25l  Downloading https://files.pythonhosted.org/packages/63/d0/693477c688348654ddc21dcdce0817653a294aa43f41771084c25e7ff9c7/s3transfer-0.4.2-py2.py3-none-any.whl (79kB)\n",
      "\u001b[K     |████████████████████████████████| 81kB 11.5MB/s \n",
      "\u001b[?25hCollecting botocore<1.21.0,>=1.20.70\n",
      "\u001b[?25l  Downloading https://files.pythonhosted.org/packages/54/69/3e71ecaeaeecd78c5e33161690e1c39856258108e9f42a153af56db5a88c/botocore-1.20.70-py2.py3-none-any.whl (7.5MB)\n",
      "\u001b[K     |████████████████████████████████| 7.5MB 45.3MB/s \n",
      "\u001b[?25hCollecting jmespath<1.0.0,>=0.7.1\n",
      "  Downloading https://files.pythonhosted.org/packages/07/cb/5f001272b6faeb23c1c9e0acc04d48eaaf5c862c17709d20e3469c6e0139/jmespath-0.10.0-py2.py3-none-any.whl\n",
      "Requirement already satisfied: idna<3,>=2.5 in /usr/local/lib/python3.7/dist-packages (from requests->bert-sklearn==0.3.1) (2.10)\n",
      "Requirement already satisfied: certifi>=2017.4.17 in /usr/local/lib/python3.7/dist-packages (from requests->bert-sklearn==0.3.1) (2020.12.5)\n",
      "Requirement already satisfied: chardet<4,>=3.0.2 in /usr/local/lib/python3.7/dist-packages (from requests->bert-sklearn==0.3.1) (3.0.4)\n",
      "Requirement already satisfied: urllib3!=1.25.0,!=1.25.1,<1.26,>=1.21.1 in /usr/local/lib/python3.7/dist-packages (from requests->bert-sklearn==0.3.1) (1.24.3)\n",
      "Requirement already satisfied: six>=1.5 in /usr/local/lib/python3.7/dist-packages (from python-dateutil>=2.7.3->pandas->bert-sklearn==0.3.1) (1.15.0)\n",
      "Building wheels for collected packages: bert-sklearn\n",
      "  Building wheel for bert-sklearn (setup.py) ... \u001b[?25l\u001b[?25hdone\n",
      "  Created wheel for bert-sklearn: filename=bert_sklearn-0.3.1-cp37-none-any.whl size=54235 sha256=504937a8ff32e36cf4b90a8da3b66f6afb7dce6a9c4da0e638fa03b675647360\n",
      "  Stored in directory: /root/.cache/pip/wheels/61/95/c6/5790aae8fb377f5ff356dbe58205aab28858595d6bff8197d0\n",
      "Successfully built bert-sklearn\n",
      "\u001b[31mERROR: botocore 1.20.70 has requirement urllib3<1.27,>=1.25.4, but you'll have urllib3 1.24.3 which is incompatible.\u001b[0m\n",
      "Installing collected packages: jmespath, botocore, s3transfer, boto3, bert-sklearn\n",
      "Successfully installed bert-sklearn-0.3.1 boto3-1.17.70 botocore-1.20.70 jmespath-0.10.0 s3transfer-0.4.2\n",
      "['tests', 'glue_examples', 'setup.py', 'README.md', '.git', 'other_examples', 'Options.md', 'demo_tuning_hyperparams.ipynb', 'bert_sklearn', 'LICENSE', 'demo.ipynb']\n"
     ]
    }
   ],
   "source": [
    "!git clone -b master https://github.com/charles9n/bert-sklearn\n",
    "!cd bert-sklearn; pip install .\n",
    "import os\n",
    "os.chdir(\"bert-sklearn\")\n",
    "print(os.listdir())"
   ]
  },
  {
   "cell_type": "code",
   "execution_count": 21,
   "metadata": {
    "colab": {
     "base_uri": "https://localhost:8080/"
    },
    "executionInfo": {
     "elapsed": 26796,
     "status": "ok",
     "timestamp": 1620707783431,
     "user": {
      "displayName": "Yessine Khanfir",
      "photoUrl": "",
      "userId": "05108825537813101328"
     },
     "user_tz": -120
    },
    "id": "sOSv__fD_w1S",
    "outputId": "4c2b29cc-e4bd-4e4b-d5de-7677748b9d6a"
   },
   "outputs": [
    {
     "name": "stdout",
     "output_type": "stream",
     "text": [
      "pytorch version: 1.8.1+cu101\n",
      "GPU: Tesla T4\n"
     ]
    }
   ],
   "source": [
    "import torch\n",
    "print('pytorch version:', torch.__version__)\n",
    "print('GPU:',torch.cuda.get_device_name(0))"
   ]
  },
  {
   "cell_type": "code",
   "execution_count": 22,
   "metadata": {
    "executionInfo": {
     "elapsed": 25643,
     "status": "ok",
     "timestamp": 1620707783431,
     "user": {
      "displayName": "Yessine Khanfir",
      "photoUrl": "",
      "userId": "05108825537813101328"
     },
     "user_tz": -120
    },
    "id": "ooRSGqD9_xGk"
   },
   "outputs": [],
   "source": [
    "from bert_sklearn import BertClassifier"
   ]
  },
  {
   "cell_type": "code",
   "execution_count": 23,
   "metadata": {
    "executionInfo": {
     "elapsed": 25248,
     "status": "ok",
     "timestamp": 1620707785425,
     "user": {
      "displayName": "Yessine Khanfir",
      "photoUrl": "",
      "userId": "05108825537813101328"
     },
     "user_tz": -120
    },
    "id": "EBhG-GTs_xnt"
   },
   "outputs": [],
   "source": [
    "testCpy = test.copy()\n",
    "trainCpy = train.copy()\n",
    "\n",
    "train_chars = trainCpy.copy()\n",
    "for i in range(0,len(train)):\n",
    "  if train_chars['LABEL_COLUMN'][i]==1:\n",
    "    train_chars.loc[i,'LABEL_COLUMN']='positif'\n",
    "  else :\n",
    "    train_chars.loc[i,'LABEL_COLUMN']='negatif'\n",
    "    "
   ]
  },
  {
   "cell_type": "code",
   "execution_count": 24,
   "metadata": {
    "colab": {
     "base_uri": "https://localhost:8080/",
     "height": 749,
     "referenced_widgets": [
      "0e88495d1e6e445b834945dd7d9fe329",
      "de7ffd7d117f4618a16eaad1835b9dd2",
      "5e5ca49f7f7d4e5cacdf864ba64c7d68",
      "95132af525404466bf824f99fc56e632",
      "e974f1c3811646539b3e22fc9e2e860b",
      "3dc6419fd9ce4c8d9a8d369a3fa5981b",
      "80a935d55caa4582a0f8c1dedc07403e",
      "d4954d9e0bdb4145b28c5d30bd0c338c"
     ]
    },
    "executionInfo": {
     "elapsed": 56691,
     "status": "error",
     "timestamp": 1620707839776,
     "user": {
      "displayName": "Yessine Khanfir",
      "photoUrl": "",
      "userId": "05108825537813101328"
     },
     "user_tz": -120
    },
    "id": "sAfNFtc-_yF-",
    "outputId": "c82a4009-cfd3-4de2-dd5d-6d1b59b12577"
   },
   "outputs": [
    {
     "name": "stderr",
     "output_type": "stream",
     "text": [
      "[Parallel(n_jobs=1)]: Using backend SequentialBackend with 1 concurrent workers.\n",
      "100%|██████████| 231508/231508 [00:00<00:00, 13192779.14B/s]"
     ]
    },
    {
     "name": "stdout",
     "output_type": "stream",
     "text": [
      "Building sklearn text classifier...\n",
      "Building sklearn text classifier...\n",
      "Fitting 3 folds for each of 9 candidates, totalling 27 fits\n",
      "Building sklearn text classifier...\n",
      "Loading bert-base-uncased model...\n"
     ]
    },
    {
     "name": "stderr",
     "output_type": "stream",
     "text": [
      "\n",
      "100%|██████████| 440473133/440473133 [00:09<00:00, 48872772.23B/s]\n",
      "100%|██████████| 433/433 [00:00<00:00, 112238.65B/s]\n"
     ]
    },
    {
     "name": "stdout",
     "output_type": "stream",
     "text": [
      "Defaulting to linear classifier/regressor\n",
      "Loading Pytorch checkpoint\n",
      "\n",
      "train data size: 5333, validation data size: 0\n",
      "\n"
     ]
    },
    {
     "name": "stderr",
     "output_type": "stream",
     "text": [
      "/usr/local/lib/python3.7/dist-packages/torch/utils/data/dataloader.py:477: UserWarning: This DataLoader will create 5 worker processes in total. Our suggested max number of worker in current system is 2, which is smaller than what this DataLoader is going to create. Please be aware that excessive worker creation might get DataLoader running slow or even freeze, lower the worker number to avoid potential slowness/freeze if necessary.\n",
      "  cpuset_checked))\n"
     ]
    },
    {
     "data": {
      "application/vnd.jupyter.widget-view+json": {
       "model_id": "0e88495d1e6e445b834945dd7d9fe329",
       "version_major": 2,
       "version_minor": 0
      },
      "text/plain": [
       "HBox(children=(FloatProgress(value=0.0, description='Training  ', max=167.0, style=ProgressStyle(description_w…"
      ]
     },
     "metadata": {
      "tags": []
     },
     "output_type": "display_data"
    },
    {
     "name": "stderr",
     "output_type": "stream",
     "text": [
      "/content/bert-sklearn/bert_sklearn/model/pytorch_pretrained/optimization.py:275: UserWarning: This overload of add_ is deprecated:\n",
      "\tadd_(Number alpha, Tensor other)\n",
      "Consider using one of the following signatures instead:\n",
      "\tadd_(Tensor other, *, Number alpha) (Triggered internally at  /pytorch/torch/csrc/utils/python_arg_parser.cpp:1005.)\n",
      "  next_m.mul_(beta1).add_(1 - beta1, grad)\n"
     ]
    },
    {
     "ename": "KeyboardInterrupt",
     "evalue": "ignored",
     "output_type": "error",
     "traceback": [
      "\u001b[0;31m---------------------------------------------------------------------------\u001b[0m",
      "\u001b[0;31mKeyboardInterrupt\u001b[0m                         Traceback (most recent call last)",
      "\u001b[0;32m<ipython-input-24-599da159acda>\u001b[0m in \u001b[0;36m<module>\u001b[0;34m()\u001b[0m\n\u001b[1;32m     12\u001b[0m \u001b[0;34m\u001b[0m\u001b[0m\n\u001b[1;32m     13\u001b[0m \u001b[0;31m# fit gridsearch\u001b[0m\u001b[0;34m\u001b[0m\u001b[0;34m\u001b[0m\u001b[0;34m\u001b[0m\u001b[0m\n\u001b[0;32m---> 14\u001b[0;31m \u001b[0mclf\u001b[0m\u001b[0;34m.\u001b[0m\u001b[0mfit\u001b[0m\u001b[0;34m(\u001b[0m\u001b[0mtrain_chars\u001b[0m\u001b[0;34m[\u001b[0m\u001b[0;34m'DATA_COLUMN'\u001b[0m\u001b[0;34m]\u001b[0m \u001b[0;34m,\u001b[0m\u001b[0mtrain_chars\u001b[0m\u001b[0;34m[\u001b[0m\u001b[0;34m'LABEL_COLUMN'\u001b[0m\u001b[0;34m]\u001b[0m\u001b[0;34m)\u001b[0m\u001b[0;34m\u001b[0m\u001b[0;34m\u001b[0m\u001b[0m\n\u001b[0m",
      "\u001b[0;32m/usr/local/lib/python3.7/dist-packages/sklearn/model_selection/_search.py\u001b[0m in \u001b[0;36mfit\u001b[0;34m(self, X, y, groups, **fit_params)\u001b[0m\n\u001b[1;32m    708\u001b[0m                 \u001b[0;32mreturn\u001b[0m \u001b[0mresults\u001b[0m\u001b[0;34m\u001b[0m\u001b[0;34m\u001b[0m\u001b[0m\n\u001b[1;32m    709\u001b[0m \u001b[0;34m\u001b[0m\u001b[0m\n\u001b[0;32m--> 710\u001b[0;31m             \u001b[0mself\u001b[0m\u001b[0;34m.\u001b[0m\u001b[0m_run_search\u001b[0m\u001b[0;34m(\u001b[0m\u001b[0mevaluate_candidates\u001b[0m\u001b[0;34m)\u001b[0m\u001b[0;34m\u001b[0m\u001b[0;34m\u001b[0m\u001b[0m\n\u001b[0m\u001b[1;32m    711\u001b[0m \u001b[0;34m\u001b[0m\u001b[0m\n\u001b[1;32m    712\u001b[0m         \u001b[0;31m# For multi-metric evaluation, store the best_index_, best_params_ and\u001b[0m\u001b[0;34m\u001b[0m\u001b[0;34m\u001b[0m\u001b[0;34m\u001b[0m\u001b[0m\n",
      "\u001b[0;32m/usr/local/lib/python3.7/dist-packages/sklearn/model_selection/_search.py\u001b[0m in \u001b[0;36m_run_search\u001b[0;34m(self, evaluate_candidates)\u001b[0m\n\u001b[1;32m   1149\u001b[0m     \u001b[0;32mdef\u001b[0m \u001b[0m_run_search\u001b[0m\u001b[0;34m(\u001b[0m\u001b[0mself\u001b[0m\u001b[0;34m,\u001b[0m \u001b[0mevaluate_candidates\u001b[0m\u001b[0;34m)\u001b[0m\u001b[0;34m:\u001b[0m\u001b[0;34m\u001b[0m\u001b[0;34m\u001b[0m\u001b[0m\n\u001b[1;32m   1150\u001b[0m         \u001b[0;34m\"\"\"Search all candidates in param_grid\"\"\"\u001b[0m\u001b[0;34m\u001b[0m\u001b[0;34m\u001b[0m\u001b[0m\n\u001b[0;32m-> 1151\u001b[0;31m         \u001b[0mevaluate_candidates\u001b[0m\u001b[0;34m(\u001b[0m\u001b[0mParameterGrid\u001b[0m\u001b[0;34m(\u001b[0m\u001b[0mself\u001b[0m\u001b[0;34m.\u001b[0m\u001b[0mparam_grid\u001b[0m\u001b[0;34m)\u001b[0m\u001b[0;34m)\u001b[0m\u001b[0;34m\u001b[0m\u001b[0;34m\u001b[0m\u001b[0m\n\u001b[0m\u001b[1;32m   1152\u001b[0m \u001b[0;34m\u001b[0m\u001b[0m\n\u001b[1;32m   1153\u001b[0m \u001b[0;34m\u001b[0m\u001b[0m\n",
      "\u001b[0;32m/usr/local/lib/python3.7/dist-packages/sklearn/model_selection/_search.py\u001b[0m in \u001b[0;36mevaluate_candidates\u001b[0;34m(candidate_params)\u001b[0m\n\u001b[1;32m    687\u001b[0m                                \u001b[0;32mfor\u001b[0m \u001b[0mparameters\u001b[0m\u001b[0;34m,\u001b[0m \u001b[0;34m(\u001b[0m\u001b[0mtrain\u001b[0m\u001b[0;34m,\u001b[0m \u001b[0mtest\u001b[0m\u001b[0;34m)\u001b[0m\u001b[0;34m\u001b[0m\u001b[0;34m\u001b[0m\u001b[0m\n\u001b[1;32m    688\u001b[0m                                in product(candidate_params,\n\u001b[0;32m--> 689\u001b[0;31m                                           cv.split(X, y, groups)))\n\u001b[0m\u001b[1;32m    690\u001b[0m \u001b[0;34m\u001b[0m\u001b[0m\n\u001b[1;32m    691\u001b[0m                 \u001b[0;32mif\u001b[0m \u001b[0mlen\u001b[0m\u001b[0;34m(\u001b[0m\u001b[0mout\u001b[0m\u001b[0;34m)\u001b[0m \u001b[0;34m<\u001b[0m \u001b[0;36m1\u001b[0m\u001b[0;34m:\u001b[0m\u001b[0;34m\u001b[0m\u001b[0;34m\u001b[0m\u001b[0m\n",
      "\u001b[0;32m/usr/local/lib/python3.7/dist-packages/joblib/parallel.py\u001b[0m in \u001b[0;36m__call__\u001b[0;34m(self, iterable)\u001b[0m\n\u001b[1;32m   1039\u001b[0m             \u001b[0;31m# remaining jobs.\u001b[0m\u001b[0;34m\u001b[0m\u001b[0;34m\u001b[0m\u001b[0;34m\u001b[0m\u001b[0m\n\u001b[1;32m   1040\u001b[0m             \u001b[0mself\u001b[0m\u001b[0;34m.\u001b[0m\u001b[0m_iterating\u001b[0m \u001b[0;34m=\u001b[0m \u001b[0;32mFalse\u001b[0m\u001b[0;34m\u001b[0m\u001b[0;34m\u001b[0m\u001b[0m\n\u001b[0;32m-> 1041\u001b[0;31m             \u001b[0;32mif\u001b[0m \u001b[0mself\u001b[0m\u001b[0;34m.\u001b[0m\u001b[0mdispatch_one_batch\u001b[0m\u001b[0;34m(\u001b[0m\u001b[0miterator\u001b[0m\u001b[0;34m)\u001b[0m\u001b[0;34m:\u001b[0m\u001b[0;34m\u001b[0m\u001b[0;34m\u001b[0m\u001b[0m\n\u001b[0m\u001b[1;32m   1042\u001b[0m                 \u001b[0mself\u001b[0m\u001b[0;34m.\u001b[0m\u001b[0m_iterating\u001b[0m \u001b[0;34m=\u001b[0m \u001b[0mself\u001b[0m\u001b[0;34m.\u001b[0m\u001b[0m_original_iterator\u001b[0m \u001b[0;32mis\u001b[0m \u001b[0;32mnot\u001b[0m \u001b[0;32mNone\u001b[0m\u001b[0;34m\u001b[0m\u001b[0;34m\u001b[0m\u001b[0m\n\u001b[1;32m   1043\u001b[0m \u001b[0;34m\u001b[0m\u001b[0m\n",
      "\u001b[0;32m/usr/local/lib/python3.7/dist-packages/joblib/parallel.py\u001b[0m in \u001b[0;36mdispatch_one_batch\u001b[0;34m(self, iterator)\u001b[0m\n\u001b[1;32m    857\u001b[0m                 \u001b[0;32mreturn\u001b[0m \u001b[0;32mFalse\u001b[0m\u001b[0;34m\u001b[0m\u001b[0;34m\u001b[0m\u001b[0m\n\u001b[1;32m    858\u001b[0m             \u001b[0;32melse\u001b[0m\u001b[0;34m:\u001b[0m\u001b[0;34m\u001b[0m\u001b[0;34m\u001b[0m\u001b[0m\n\u001b[0;32m--> 859\u001b[0;31m                 \u001b[0mself\u001b[0m\u001b[0;34m.\u001b[0m\u001b[0m_dispatch\u001b[0m\u001b[0;34m(\u001b[0m\u001b[0mtasks\u001b[0m\u001b[0;34m)\u001b[0m\u001b[0;34m\u001b[0m\u001b[0;34m\u001b[0m\u001b[0m\n\u001b[0m\u001b[1;32m    860\u001b[0m                 \u001b[0;32mreturn\u001b[0m \u001b[0;32mTrue\u001b[0m\u001b[0;34m\u001b[0m\u001b[0;34m\u001b[0m\u001b[0m\n\u001b[1;32m    861\u001b[0m \u001b[0;34m\u001b[0m\u001b[0m\n",
      "\u001b[0;32m/usr/local/lib/python3.7/dist-packages/joblib/parallel.py\u001b[0m in \u001b[0;36m_dispatch\u001b[0;34m(self, batch)\u001b[0m\n\u001b[1;32m    775\u001b[0m         \u001b[0;32mwith\u001b[0m \u001b[0mself\u001b[0m\u001b[0;34m.\u001b[0m\u001b[0m_lock\u001b[0m\u001b[0;34m:\u001b[0m\u001b[0;34m\u001b[0m\u001b[0;34m\u001b[0m\u001b[0m\n\u001b[1;32m    776\u001b[0m             \u001b[0mjob_idx\u001b[0m \u001b[0;34m=\u001b[0m \u001b[0mlen\u001b[0m\u001b[0;34m(\u001b[0m\u001b[0mself\u001b[0m\u001b[0;34m.\u001b[0m\u001b[0m_jobs\u001b[0m\u001b[0;34m)\u001b[0m\u001b[0;34m\u001b[0m\u001b[0;34m\u001b[0m\u001b[0m\n\u001b[0;32m--> 777\u001b[0;31m             \u001b[0mjob\u001b[0m \u001b[0;34m=\u001b[0m \u001b[0mself\u001b[0m\u001b[0;34m.\u001b[0m\u001b[0m_backend\u001b[0m\u001b[0;34m.\u001b[0m\u001b[0mapply_async\u001b[0m\u001b[0;34m(\u001b[0m\u001b[0mbatch\u001b[0m\u001b[0;34m,\u001b[0m \u001b[0mcallback\u001b[0m\u001b[0;34m=\u001b[0m\u001b[0mcb\u001b[0m\u001b[0;34m)\u001b[0m\u001b[0;34m\u001b[0m\u001b[0;34m\u001b[0m\u001b[0m\n\u001b[0m\u001b[1;32m    778\u001b[0m             \u001b[0;31m# A job can complete so quickly than its callback is\u001b[0m\u001b[0;34m\u001b[0m\u001b[0;34m\u001b[0m\u001b[0;34m\u001b[0m\u001b[0m\n\u001b[1;32m    779\u001b[0m             \u001b[0;31m# called before we get here, causing self._jobs to\u001b[0m\u001b[0;34m\u001b[0m\u001b[0;34m\u001b[0m\u001b[0;34m\u001b[0m\u001b[0m\n",
      "\u001b[0;32m/usr/local/lib/python3.7/dist-packages/joblib/_parallel_backends.py\u001b[0m in \u001b[0;36mapply_async\u001b[0;34m(self, func, callback)\u001b[0m\n\u001b[1;32m    206\u001b[0m     \u001b[0;32mdef\u001b[0m \u001b[0mapply_async\u001b[0m\u001b[0;34m(\u001b[0m\u001b[0mself\u001b[0m\u001b[0;34m,\u001b[0m \u001b[0mfunc\u001b[0m\u001b[0;34m,\u001b[0m \u001b[0mcallback\u001b[0m\u001b[0;34m=\u001b[0m\u001b[0;32mNone\u001b[0m\u001b[0;34m)\u001b[0m\u001b[0;34m:\u001b[0m\u001b[0;34m\u001b[0m\u001b[0;34m\u001b[0m\u001b[0m\n\u001b[1;32m    207\u001b[0m         \u001b[0;34m\"\"\"Schedule a func to be run\"\"\"\u001b[0m\u001b[0;34m\u001b[0m\u001b[0;34m\u001b[0m\u001b[0m\n\u001b[0;32m--> 208\u001b[0;31m         \u001b[0mresult\u001b[0m \u001b[0;34m=\u001b[0m \u001b[0mImmediateResult\u001b[0m\u001b[0;34m(\u001b[0m\u001b[0mfunc\u001b[0m\u001b[0;34m)\u001b[0m\u001b[0;34m\u001b[0m\u001b[0;34m\u001b[0m\u001b[0m\n\u001b[0m\u001b[1;32m    209\u001b[0m         \u001b[0;32mif\u001b[0m \u001b[0mcallback\u001b[0m\u001b[0;34m:\u001b[0m\u001b[0;34m\u001b[0m\u001b[0;34m\u001b[0m\u001b[0m\n\u001b[1;32m    210\u001b[0m             \u001b[0mcallback\u001b[0m\u001b[0;34m(\u001b[0m\u001b[0mresult\u001b[0m\u001b[0;34m)\u001b[0m\u001b[0;34m\u001b[0m\u001b[0;34m\u001b[0m\u001b[0m\n",
      "\u001b[0;32m/usr/local/lib/python3.7/dist-packages/joblib/_parallel_backends.py\u001b[0m in \u001b[0;36m__init__\u001b[0;34m(self, batch)\u001b[0m\n\u001b[1;32m    570\u001b[0m         \u001b[0;31m# Don't delay the application, to avoid keeping the input\u001b[0m\u001b[0;34m\u001b[0m\u001b[0;34m\u001b[0m\u001b[0;34m\u001b[0m\u001b[0m\n\u001b[1;32m    571\u001b[0m         \u001b[0;31m# arguments in memory\u001b[0m\u001b[0;34m\u001b[0m\u001b[0;34m\u001b[0m\u001b[0;34m\u001b[0m\u001b[0m\n\u001b[0;32m--> 572\u001b[0;31m         \u001b[0mself\u001b[0m\u001b[0;34m.\u001b[0m\u001b[0mresults\u001b[0m \u001b[0;34m=\u001b[0m \u001b[0mbatch\u001b[0m\u001b[0;34m(\u001b[0m\u001b[0;34m)\u001b[0m\u001b[0;34m\u001b[0m\u001b[0;34m\u001b[0m\u001b[0m\n\u001b[0m\u001b[1;32m    573\u001b[0m \u001b[0;34m\u001b[0m\u001b[0m\n\u001b[1;32m    574\u001b[0m     \u001b[0;32mdef\u001b[0m \u001b[0mget\u001b[0m\u001b[0;34m(\u001b[0m\u001b[0mself\u001b[0m\u001b[0;34m)\u001b[0m\u001b[0;34m:\u001b[0m\u001b[0;34m\u001b[0m\u001b[0;34m\u001b[0m\u001b[0m\n",
      "\u001b[0;32m/usr/local/lib/python3.7/dist-packages/joblib/parallel.py\u001b[0m in \u001b[0;36m__call__\u001b[0;34m(self)\u001b[0m\n\u001b[1;32m    261\u001b[0m         \u001b[0;32mwith\u001b[0m \u001b[0mparallel_backend\u001b[0m\u001b[0;34m(\u001b[0m\u001b[0mself\u001b[0m\u001b[0;34m.\u001b[0m\u001b[0m_backend\u001b[0m\u001b[0;34m,\u001b[0m \u001b[0mn_jobs\u001b[0m\u001b[0;34m=\u001b[0m\u001b[0mself\u001b[0m\u001b[0;34m.\u001b[0m\u001b[0m_n_jobs\u001b[0m\u001b[0;34m)\u001b[0m\u001b[0;34m:\u001b[0m\u001b[0;34m\u001b[0m\u001b[0;34m\u001b[0m\u001b[0m\n\u001b[1;32m    262\u001b[0m             return [func(*args, **kwargs)\n\u001b[0;32m--> 263\u001b[0;31m                     for func, args, kwargs in self.items]\n\u001b[0m\u001b[1;32m    264\u001b[0m \u001b[0;34m\u001b[0m\u001b[0m\n\u001b[1;32m    265\u001b[0m     \u001b[0;32mdef\u001b[0m \u001b[0m__reduce__\u001b[0m\u001b[0;34m(\u001b[0m\u001b[0mself\u001b[0m\u001b[0;34m)\u001b[0m\u001b[0;34m:\u001b[0m\u001b[0;34m\u001b[0m\u001b[0;34m\u001b[0m\u001b[0m\n",
      "\u001b[0;32m/usr/local/lib/python3.7/dist-packages/joblib/parallel.py\u001b[0m in \u001b[0;36m<listcomp>\u001b[0;34m(.0)\u001b[0m\n\u001b[1;32m    261\u001b[0m         \u001b[0;32mwith\u001b[0m \u001b[0mparallel_backend\u001b[0m\u001b[0;34m(\u001b[0m\u001b[0mself\u001b[0m\u001b[0;34m.\u001b[0m\u001b[0m_backend\u001b[0m\u001b[0;34m,\u001b[0m \u001b[0mn_jobs\u001b[0m\u001b[0;34m=\u001b[0m\u001b[0mself\u001b[0m\u001b[0;34m.\u001b[0m\u001b[0m_n_jobs\u001b[0m\u001b[0;34m)\u001b[0m\u001b[0;34m:\u001b[0m\u001b[0;34m\u001b[0m\u001b[0;34m\u001b[0m\u001b[0m\n\u001b[1;32m    262\u001b[0m             return [func(*args, **kwargs)\n\u001b[0;32m--> 263\u001b[0;31m                     for func, args, kwargs in self.items]\n\u001b[0m\u001b[1;32m    264\u001b[0m \u001b[0;34m\u001b[0m\u001b[0m\n\u001b[1;32m    265\u001b[0m     \u001b[0;32mdef\u001b[0m \u001b[0m__reduce__\u001b[0m\u001b[0;34m(\u001b[0m\u001b[0mself\u001b[0m\u001b[0;34m)\u001b[0m\u001b[0;34m:\u001b[0m\u001b[0;34m\u001b[0m\u001b[0;34m\u001b[0m\u001b[0m\n",
      "\u001b[0;32m/usr/local/lib/python3.7/dist-packages/sklearn/model_selection/_validation.py\u001b[0m in \u001b[0;36m_fit_and_score\u001b[0;34m(estimator, X, y, scorer, train, test, verbose, parameters, fit_params, return_train_score, return_parameters, return_n_test_samples, return_times, return_estimator, error_score)\u001b[0m\n\u001b[1;32m    513\u001b[0m             \u001b[0mestimator\u001b[0m\u001b[0;34m.\u001b[0m\u001b[0mfit\u001b[0m\u001b[0;34m(\u001b[0m\u001b[0mX_train\u001b[0m\u001b[0;34m,\u001b[0m \u001b[0;34m**\u001b[0m\u001b[0mfit_params\u001b[0m\u001b[0;34m)\u001b[0m\u001b[0;34m\u001b[0m\u001b[0;34m\u001b[0m\u001b[0m\n\u001b[1;32m    514\u001b[0m         \u001b[0;32melse\u001b[0m\u001b[0;34m:\u001b[0m\u001b[0;34m\u001b[0m\u001b[0;34m\u001b[0m\u001b[0m\n\u001b[0;32m--> 515\u001b[0;31m             \u001b[0mestimator\u001b[0m\u001b[0;34m.\u001b[0m\u001b[0mfit\u001b[0m\u001b[0;34m(\u001b[0m\u001b[0mX_train\u001b[0m\u001b[0;34m,\u001b[0m \u001b[0my_train\u001b[0m\u001b[0;34m,\u001b[0m \u001b[0;34m**\u001b[0m\u001b[0mfit_params\u001b[0m\u001b[0;34m)\u001b[0m\u001b[0;34m\u001b[0m\u001b[0;34m\u001b[0m\u001b[0m\n\u001b[0m\u001b[1;32m    516\u001b[0m \u001b[0;34m\u001b[0m\u001b[0m\n\u001b[1;32m    517\u001b[0m     \u001b[0;32mexcept\u001b[0m \u001b[0mException\u001b[0m \u001b[0;32mas\u001b[0m \u001b[0me\u001b[0m\u001b[0;34m:\u001b[0m\u001b[0;34m\u001b[0m\u001b[0;34m\u001b[0m\u001b[0m\n",
      "\u001b[0;32m/content/bert-sklearn/bert_sklearn/sklearn.py\u001b[0m in \u001b[0;36mfit\u001b[0;34m(self, X, y, load_at_start)\u001b[0m\n\u001b[1;32m    372\u001b[0m \u001b[0;34m\u001b[0m\u001b[0m\n\u001b[1;32m    373\u001b[0m         \u001b[0;31m# finetune model!\u001b[0m\u001b[0;34m\u001b[0m\u001b[0;34m\u001b[0m\u001b[0;34m\u001b[0m\u001b[0m\n\u001b[0;32m--> 374\u001b[0;31m         \u001b[0mself\u001b[0m\u001b[0;34m.\u001b[0m\u001b[0mmodel\u001b[0m \u001b[0;34m=\u001b[0m \u001b[0mfinetune\u001b[0m\u001b[0;34m(\u001b[0m\u001b[0mself\u001b[0m\u001b[0;34m.\u001b[0m\u001b[0mmodel\u001b[0m\u001b[0;34m,\u001b[0m \u001b[0mtexts_a\u001b[0m\u001b[0;34m,\u001b[0m \u001b[0mtexts_b\u001b[0m\u001b[0;34m,\u001b[0m \u001b[0mlabels\u001b[0m\u001b[0;34m,\u001b[0m \u001b[0mconfig\u001b[0m\u001b[0;34m)\u001b[0m\u001b[0;34m\u001b[0m\u001b[0;34m\u001b[0m\u001b[0m\n\u001b[0m\u001b[1;32m    375\u001b[0m \u001b[0;34m\u001b[0m\u001b[0m\n\u001b[1;32m    376\u001b[0m         \u001b[0;32mreturn\u001b[0m \u001b[0mself\u001b[0m\u001b[0;34m\u001b[0m\u001b[0;34m\u001b[0m\u001b[0m\n",
      "\u001b[0;32m/content/bert-sklearn/bert_sklearn/finetune.py\u001b[0m in \u001b[0;36mfinetune\u001b[0;34m(model, X1, X2, y, config)\u001b[0m\n\u001b[1;32m    129\u001b[0m                 \u001b[0moptimizer\u001b[0m\u001b[0;34m.\u001b[0m\u001b[0mbackward\u001b[0m\u001b[0;34m(\u001b[0m\u001b[0mloss\u001b[0m\u001b[0;34m)\u001b[0m\u001b[0;34m\u001b[0m\u001b[0;34m\u001b[0m\u001b[0m\n\u001b[1;32m    130\u001b[0m             \u001b[0;32melse\u001b[0m\u001b[0;34m:\u001b[0m\u001b[0;34m\u001b[0m\u001b[0;34m\u001b[0m\u001b[0m\n\u001b[0;32m--> 131\u001b[0;31m                 \u001b[0mloss\u001b[0m\u001b[0;34m.\u001b[0m\u001b[0mbackward\u001b[0m\u001b[0;34m(\u001b[0m\u001b[0;34m)\u001b[0m\u001b[0;34m\u001b[0m\u001b[0;34m\u001b[0m\u001b[0m\n\u001b[0m\u001b[1;32m    132\u001b[0m \u001b[0;34m\u001b[0m\u001b[0m\n\u001b[1;32m    133\u001b[0m             \u001b[0;31m# step the optimizer every grad_accum_steps\u001b[0m\u001b[0;34m\u001b[0m\u001b[0;34m\u001b[0m\u001b[0;34m\u001b[0m\u001b[0m\n",
      "\u001b[0;32m/usr/local/lib/python3.7/dist-packages/torch/tensor.py\u001b[0m in \u001b[0;36mbackward\u001b[0;34m(self, gradient, retain_graph, create_graph, inputs)\u001b[0m\n\u001b[1;32m    243\u001b[0m                 \u001b[0mcreate_graph\u001b[0m\u001b[0;34m=\u001b[0m\u001b[0mcreate_graph\u001b[0m\u001b[0;34m,\u001b[0m\u001b[0;34m\u001b[0m\u001b[0;34m\u001b[0m\u001b[0m\n\u001b[1;32m    244\u001b[0m                 inputs=inputs)\n\u001b[0;32m--> 245\u001b[0;31m         \u001b[0mtorch\u001b[0m\u001b[0;34m.\u001b[0m\u001b[0mautograd\u001b[0m\u001b[0;34m.\u001b[0m\u001b[0mbackward\u001b[0m\u001b[0;34m(\u001b[0m\u001b[0mself\u001b[0m\u001b[0;34m,\u001b[0m \u001b[0mgradient\u001b[0m\u001b[0;34m,\u001b[0m \u001b[0mretain_graph\u001b[0m\u001b[0;34m,\u001b[0m \u001b[0mcreate_graph\u001b[0m\u001b[0;34m,\u001b[0m \u001b[0minputs\u001b[0m\u001b[0;34m=\u001b[0m\u001b[0minputs\u001b[0m\u001b[0;34m)\u001b[0m\u001b[0;34m\u001b[0m\u001b[0;34m\u001b[0m\u001b[0m\n\u001b[0m\u001b[1;32m    246\u001b[0m \u001b[0;34m\u001b[0m\u001b[0m\n\u001b[1;32m    247\u001b[0m     \u001b[0;32mdef\u001b[0m \u001b[0mregister_hook\u001b[0m\u001b[0;34m(\u001b[0m\u001b[0mself\u001b[0m\u001b[0;34m,\u001b[0m \u001b[0mhook\u001b[0m\u001b[0;34m)\u001b[0m\u001b[0;34m:\u001b[0m\u001b[0;34m\u001b[0m\u001b[0;34m\u001b[0m\u001b[0m\n",
      "\u001b[0;32m/usr/local/lib/python3.7/dist-packages/torch/autograd/__init__.py\u001b[0m in \u001b[0;36mbackward\u001b[0;34m(tensors, grad_tensors, retain_graph, create_graph, grad_variables, inputs)\u001b[0m\n\u001b[1;32m    145\u001b[0m     Variable._execution_engine.run_backward(\n\u001b[1;32m    146\u001b[0m         \u001b[0mtensors\u001b[0m\u001b[0;34m,\u001b[0m \u001b[0mgrad_tensors_\u001b[0m\u001b[0;34m,\u001b[0m \u001b[0mretain_graph\u001b[0m\u001b[0;34m,\u001b[0m \u001b[0mcreate_graph\u001b[0m\u001b[0;34m,\u001b[0m \u001b[0minputs\u001b[0m\u001b[0;34m,\u001b[0m\u001b[0;34m\u001b[0m\u001b[0;34m\u001b[0m\u001b[0m\n\u001b[0;32m--> 147\u001b[0;31m         allow_unreachable=True, accumulate_grad=True)  # allow_unreachable flag\n\u001b[0m\u001b[1;32m    148\u001b[0m \u001b[0;34m\u001b[0m\u001b[0m\n\u001b[1;32m    149\u001b[0m \u001b[0;34m\u001b[0m\u001b[0m\n",
      "\u001b[0;31mKeyboardInterrupt\u001b[0m: "
     ]
    }
   ],
   "source": [
    "from sklearn.model_selection import GridSearchCV\n",
    "\n",
    "\n",
    "params = {'epochs':[2, 3, 4], 'learning_rate':[2e-5, 3e-5, 5e-5]}\n",
    "\n",
    "# wrap classifier/regressor in GridSearchCV\n",
    "clf = GridSearchCV(BertClassifier(validation_fraction=0, max_seq_length=64), \n",
    "                   params,\n",
    "                   cv=3,\n",
    "                   scoring='accuracy',\n",
    "                   verbose=True)\n",
    "\n",
    "# fit gridsearch \n",
    "clf.fit(train_chars['DATA_COLUMN'] ,train_chars['LABEL_COLUMN'])"
   ]
  },
  {
   "cell_type": "code",
   "execution_count": 25,
   "metadata": {
    "colab": {
     "base_uri": "https://localhost:8080/",
     "height": 231
    },
    "executionInfo": {
     "elapsed": 655,
     "status": "error",
     "timestamp": 1620707847039,
     "user": {
      "displayName": "Yessine Khanfir",
      "photoUrl": "",
      "userId": "05108825537813101328"
     },
     "user_tz": -120
    },
    "id": "yIEgWIurAAhT",
    "outputId": "922ebbed-d9b5-44f7-fc50-e3828d5d458b"
   },
   "outputs": [
    {
     "ename": "AttributeError",
     "evalue": "ignored",
     "output_type": "error",
     "traceback": [
      "\u001b[0;31m---------------------------------------------------------------------------\u001b[0m",
      "\u001b[0;31mAttributeError\u001b[0m                            Traceback (most recent call last)",
      "\u001b[0;32m<ipython-input-25-65ef61a71c33>\u001b[0m in \u001b[0;36m<module>\u001b[0;34m()\u001b[0m\n\u001b[0;32m----> 1\u001b[0;31m \u001b[0mmeans\u001b[0m \u001b[0;34m=\u001b[0m \u001b[0mclf\u001b[0m\u001b[0;34m.\u001b[0m\u001b[0mcv_results_\u001b[0m\u001b[0;34m[\u001b[0m\u001b[0;34m'mean_test_score'\u001b[0m\u001b[0;34m]\u001b[0m\u001b[0;34m\u001b[0m\u001b[0;34m\u001b[0m\u001b[0m\n\u001b[0m\u001b[1;32m      2\u001b[0m \u001b[0mstds\u001b[0m \u001b[0;34m=\u001b[0m \u001b[0mclf\u001b[0m\u001b[0;34m.\u001b[0m\u001b[0mcv_results_\u001b[0m\u001b[0;34m[\u001b[0m\u001b[0;34m'std_test_score'\u001b[0m\u001b[0;34m]\u001b[0m\u001b[0;34m\u001b[0m\u001b[0;34m\u001b[0m\u001b[0m\n\u001b[1;32m      3\u001b[0m \u001b[0;34m\u001b[0m\u001b[0m\n\u001b[1;32m      4\u001b[0m \u001b[0;32mfor\u001b[0m \u001b[0mmean\u001b[0m\u001b[0;34m,\u001b[0m \u001b[0mstd\u001b[0m\u001b[0;34m,\u001b[0m \u001b[0mparams\u001b[0m \u001b[0;32min\u001b[0m \u001b[0mzip\u001b[0m\u001b[0;34m(\u001b[0m\u001b[0mmeans\u001b[0m\u001b[0;34m,\u001b[0m \u001b[0mstds\u001b[0m\u001b[0;34m,\u001b[0m \u001b[0mclf\u001b[0m\u001b[0;34m.\u001b[0m\u001b[0mcv_results_\u001b[0m\u001b[0;34m[\u001b[0m\u001b[0;34m'params'\u001b[0m\u001b[0;34m]\u001b[0m\u001b[0;34m)\u001b[0m\u001b[0;34m:\u001b[0m\u001b[0;34m\u001b[0m\u001b[0;34m\u001b[0m\u001b[0m\n\u001b[1;32m      5\u001b[0m         print(\"%0.3f (+/-%0.03f) for %r\"\n",
      "\u001b[0;31mAttributeError\u001b[0m: 'GridSearchCV' object has no attribute 'cv_results_'"
     ]
    }
   ],
   "source": [
    "means = clf.cv_results_['mean_test_score']\n",
    "stds = clf.cv_results_['std_test_score']\n",
    "\n",
    "for mean, std, params in zip(means, stds, clf.cv_results_['params']):\n",
    "        print(\"%0.3f (+/-%0.03f) for %r\"\n",
    "              % (mean, std * 2, params))\n",
    "        \n",
    "# best scores\n",
    "print(\"\\nBest score:\", clf.best_score_,\"with params:\", clf.best_params_)"
   ]
  },
  {
   "cell_type": "code",
   "execution_count": 26,
   "metadata": {
    "colab": {
     "base_uri": "https://localhost:8080/"
    },
    "executionInfo": {
     "elapsed": 551,
     "status": "ok",
     "timestamp": 1620707847290,
     "user": {
      "displayName": "Yessine Khanfir",
      "photoUrl": "",
      "userId": "05108825537813101328"
     },
     "user_tz": -120
    },
    "id": "BoRuvbQwi2F2",
    "outputId": "308ec6c6-bff7-4fa7-fe4f-41b8075b11b4"
   },
   "outputs": [
    {
     "data": {
      "text/plain": [
       "InputExample(guid=None, text_a='Hello, world', text_b=None, label=1)"
      ]
     },
     "execution_count": 26,
     "metadata": {
      "tags": []
     },
     "output_type": "execute_result"
    }
   ],
   "source": [
    "InputExample(guid=None,\n",
    "             text_a = \"Hello, world\",\n",
    "             text_b = None,\n",
    "             label = 1)"
   ]
  },
  {
   "cell_type": "code",
   "execution_count": 27,
   "metadata": {
    "executionInfo": {
     "elapsed": 624,
     "status": "ok",
     "timestamp": 1620707847553,
     "user": {
      "displayName": "Yessine Khanfir",
      "photoUrl": "",
      "userId": "05108825537813101328"
     },
     "user_tz": -120
    },
    "id": "GatKlMGLjFt2"
   },
   "outputs": [],
   "source": [
    "def convert_data_to_examples(train, test, DATA_COLUMN, LABEL_COLUMN): \n",
    "    train_InputExamples = train.apply(lambda x: InputExample(guid=None, # Globally unique ID for bookkeeping, unused in this case\n",
    "                                                          text_a = x[DATA_COLUMN], \n",
    "                                                          text_b = None,\n",
    "                                                          label = x[LABEL_COLUMN]), axis = 1)\n",
    "\n",
    "    validation_InputExamples = test.apply(lambda x: InputExample(guid=None, # Globally unique ID for bookkeeping, unused in this case\n",
    "                                                          text_a = x[DATA_COLUMN], \n",
    "                                                          text_b = None,\n",
    "                                                          label = x[LABEL_COLUMN]), axis = 1)\n",
    "\n",
    "    return train_InputExamples, validation_InputExamples\n",
    "\n",
    "    train_InputExamples, validation_InputExamples = convert_data_to_examples(train, \n",
    "                                                                           test, \n",
    "                                                                           'DATA_COLUMN', \n",
    "                                                                           'LABEL_COLUMN')\n",
    "  \n",
    "def convert_examples_to_tf_dataset(examples, tokenizer, max_length=128):\n",
    "    features = [] # -> will hold InputFeatures to be converted later\n",
    "\n",
    "    for e in examples:\n",
    "        # Documentation is really strong for this method, so please take a look at it\n",
    "        input_dict = tokenizer.encode_plus(\n",
    "            e.text_a,\n",
    "            add_special_tokens=True,\n",
    "            max_length=max_length, # truncates if len(s) > max_length\n",
    "            return_token_type_ids=True,\n",
    "            return_attention_mask=True,\n",
    "            pad_to_max_length=True, # pads to the right by default # CHECK THIS for pad_to_max_length\n",
    "            truncation=True\n",
    "        )\n",
    "\n",
    "        input_ids, token_type_ids, attention_mask = (input_dict[\"input_ids\"],\n",
    "            input_dict[\"token_type_ids\"], input_dict['attention_mask'])\n",
    "\n",
    "        features.append(\n",
    "            InputFeatures(\n",
    "                input_ids=input_ids, attention_mask=attention_mask, token_type_ids=token_type_ids, label=e.label\n",
    "            )\n",
    "        )\n",
    "\n",
    "    def gen():\n",
    "        for f in features:\n",
    "            yield (\n",
    "                {\n",
    "                    \"input_ids\": f.input_ids,\n",
    "                    \"attention_mask\": f.attention_mask,\n",
    "                    \"token_type_ids\": f.token_type_ids,\n",
    "                },\n",
    "                f.label,\n",
    "            )\n",
    "\n",
    "    return tf.data.Dataset.from_generator(\n",
    "        gen,\n",
    "        ({\"input_ids\": tf.int32, \"attention_mask\": tf.int32, \"token_type_ids\": tf.int32}, tf.int64),\n",
    "        (\n",
    "            {\n",
    "                \"input_ids\": tf.TensorShape([None]),\n",
    "                \"attention_mask\": tf.TensorShape([None]),\n",
    "                \"token_type_ids\": tf.TensorShape([None]),\n",
    "            },\n",
    "            tf.TensorShape([]),\n",
    "        ),\n",
    "    )\n",
    "\n",
    "\n",
    "DATA_COLUMN = 'DATA_COLUMN'\n",
    "LABEL_COLUMN = 'LABEL_COLUMN'"
   ]
  },
  {
   "cell_type": "code",
   "execution_count": 28,
   "metadata": {
    "colab": {
     "base_uri": "https://localhost:8080/"
    },
    "executionInfo": {
     "elapsed": 55079,
     "status": "ok",
     "timestamp": 1620707902324,
     "user": {
      "displayName": "Yessine Khanfir",
      "photoUrl": "",
      "userId": "05108825537813101328"
     },
     "user_tz": -120
    },
    "id": "9WeaeeTJmbv4",
    "outputId": "e1050b1a-fd8b-46de-d26c-22bc547cbef6"
   },
   "outputs": [
    {
     "name": "stderr",
     "output_type": "stream",
     "text": [
      "/usr/local/lib/python3.7/dist-packages/transformers/tokenization_utils_base.py:2079: FutureWarning: The `pad_to_max_length` argument is deprecated and will be removed in a future version, use `padding=True` or `padding='longest'` to pad to the longest sequence in the batch, or use `padding='max_length'` to pad to a max length. In this case, you can give a specific length with `max_length` (e.g. `max_length=45`) or leave max_length to None to pad to the maximal input size of the model (e.g. 512 for Bert).\n",
      "  FutureWarning,\n"
     ]
    }
   ],
   "source": [
    "train_InputExamples, validation_InputExamples = convert_data_to_examples(train, test, DATA_COLUMN, LABEL_COLUMN)\n",
    "\n",
    "train_data = convert_examples_to_tf_dataset(list(train_InputExamples), tokenizer)\n",
    "train_data = train_data.shuffle(100).batch(32).repeat(2)\n",
    "\n",
    "validation_data = convert_examples_to_tf_dataset(list(validation_InputExamples), tokenizer)\n",
    "validation_data = validation_data.batch(32)"
   ]
  },
  {
   "cell_type": "code",
   "execution_count": 29,
   "metadata": {
    "executionInfo": {
     "elapsed": 54321,
     "status": "ok",
     "timestamp": 1620707902325,
     "user": {
      "displayName": "Yessine Khanfir",
      "photoUrl": "",
      "userId": "05108825537813101328"
     },
     "user_tz": -120
    },
    "id": "QlHaV4YJGwas"
   },
   "outputs": [],
   "source": [
    "model.compile(optimizer=tf.keras.optimizers.Adam(learning_rate=2e-05, epsilon=1e-08, clipnorm=1.0), \n",
    "              loss=tf.keras.losses.SparseCategoricalCrossentropy(from_logits=True), \n",
    "              metrics=[tf.keras.metrics.SparseCategoricalAccuracy('accuracy')])\n"
   ]
  },
  {
   "cell_type": "code",
   "execution_count": 30,
   "metadata": {
    "colab": {
     "base_uri": "https://localhost:8080/"
    },
    "executionInfo": {
     "elapsed": 1847814,
     "status": "ok",
     "timestamp": 1620709697013,
     "user": {
      "displayName": "Yessine Khanfir",
      "photoUrl": "",
      "userId": "05108825537813101328"
     },
     "user_tz": -120
    },
    "id": "zVqP8ZuAGwww",
    "outputId": "7af0e333-aedd-41fb-ade3-5b2cefb58d02"
   },
   "outputs": [
    {
     "name": "stdout",
     "output_type": "stream",
     "text": [
      "Epoch 1/4\n",
      "WARNING:tensorflow:The parameters `output_attentions`, `output_hidden_states` and `use_cache` cannot be updated when calling a model.They have to be set to True/False in the config object (i.e.: `config=XConfig.from_pretrained('name', output_attentions=True)`).\n",
      "WARNING:tensorflow:AutoGraph could not transform <bound method Socket.send of <zmq.sugar.socket.Socket object at 0x7fcf2c59ad00>> and will run it as-is.\n",
      "Please report this to the TensorFlow team. When filing the bug, set the verbosity to 10 (on Linux, `export AUTOGRAPH_VERBOSITY=10`) and attach the full output.\n",
      "Cause: module, class, method, function, traceback, frame, or code object was expected, got cython_function_or_method\n",
      "To silence this warning, decorate the function with @tf.autograph.experimental.do_not_convert\n",
      "WARNING: AutoGraph could not transform <bound method Socket.send of <zmq.sugar.socket.Socket object at 0x7fcf2c59ad00>> and will run it as-is.\n",
      "Please report this to the TensorFlow team. When filing the bug, set the verbosity to 10 (on Linux, `export AUTOGRAPH_VERBOSITY=10`) and attach the full output.\n",
      "Cause: module, class, method, function, traceback, frame, or code object was expected, got cython_function_or_method\n",
      "To silence this warning, decorate the function with @tf.autograph.experimental.do_not_convert\n",
      "WARNING:tensorflow:AutoGraph could not transform <function wrap at 0x7fcf47e47d40> and will run it as-is.\n",
      "Cause: while/else statement not yet supported\n",
      "To silence this warning, decorate the function with @tf.autograph.experimental.do_not_convert\n",
      "WARNING: AutoGraph could not transform <function wrap at 0x7fcf47e47d40> and will run it as-is.\n",
      "Cause: while/else statement not yet supported\n",
      "To silence this warning, decorate the function with @tf.autograph.experimental.do_not_convert\n",
      "WARNING:tensorflow:The parameter `return_dict` cannot be set in graph mode and will always be set to `True`.\n",
      "WARNING:tensorflow:The parameters `output_attentions`, `output_hidden_states` and `use_cache` cannot be updated when calling a model.They have to be set to True/False in the config object (i.e.: `config=XConfig.from_pretrained('name', output_attentions=True)`).\n",
      "WARNING:tensorflow:The parameter `return_dict` cannot be set in graph mode and will always be set to `True`.\n",
      "    500/Unknown - 472s 835ms/step - loss: 0.6993 - accuracy: 0.5009WARNING:tensorflow:The parameters `output_attentions`, `output_hidden_states` and `use_cache` cannot be updated when calling a model.They have to be set to True/False in the config object (i.e.: `config=XConfig.from_pretrained('name', output_attentions=True)`).\n",
      "WARNING:tensorflow:The parameter `return_dict` cannot be set in graph mode and will always be set to `True`.\n",
      "500/500 [==============================] - 492s 875ms/step - loss: 0.6993 - accuracy: 0.5009 - val_loss: 0.6930 - val_accuracy: 0.5070\n",
      "Epoch 2/4\n",
      "500/500 [==============================] - 435s 870ms/step - loss: 0.6576 - accuracy: 0.5892 - val_loss: 0.8421 - val_accuracy: 0.5495\n",
      "Epoch 3/4\n",
      "500/500 [==============================] - 435s 870ms/step - loss: 0.2249 - accuracy: 0.9083 - val_loss: 1.4388 - val_accuracy: 0.5545\n",
      "Epoch 4/4\n",
      "500/500 [==============================] - 435s 870ms/step - loss: 0.0600 - accuracy: 0.9794 - val_loss: 1.8546 - val_accuracy: 0.5610\n"
     ]
    },
    {
     "data": {
      "text/plain": [
       "<tensorflow.python.keras.callbacks.History at 0x7fcedf8e6b50>"
      ]
     },
     "execution_count": 30,
     "metadata": {
      "tags": []
     },
     "output_type": "execute_result"
    }
   ],
   "source": [
    "model.fit(train_data, epochs=4, validation_data=validation_data)"
   ]
  },
  {
   "cell_type": "code",
   "execution_count": 31,
   "metadata": {
    "colab": {
     "base_uri": "https://localhost:8080/"
    },
    "executionInfo": {
     "elapsed": 1846785,
     "status": "ok",
     "timestamp": 1620709697014,
     "user": {
      "displayName": "Yessine Khanfir",
      "photoUrl": "",
      "userId": "05108825537813101328"
     },
     "user_tz": -120
    },
    "id": "_UvLKoPqjPwV",
    "outputId": "f428c6f4-f3c4-47ba-94e2-593284c24ded"
   },
   "outputs": [
    {
     "name": "stdout",
     "output_type": "stream",
     "text": [
      " a very awful boring bad bad provider : \n",
      " Positive\n"
     ]
    }
   ],
   "source": [
    "pred_sentences = [' a very awful boring bad bad provider']\n",
    "tf_batch = tokenizer(pred_sentences, max_length=128, padding=True, truncation=True, return_tensors='tf')\n",
    "tf_outputs = model(tf_batch)\n",
    "tf_predictions = tf.nn.softmax(tf_outputs[0], axis=-1)\n",
    "labels = ['Negative','Positive']\n",
    "label = tf.argmax(tf_predictions, axis=1)\n",
    "label = label.numpy()\n",
    "for i in range(len(pred_sentences)):\n",
    "    print(pred_sentences[i], \": \\n\", labels[label[i]])"
   ]
  },
  {
   "cell_type": "code",
   "execution_count": 32,
   "metadata": {
    "colab": {
     "base_uri": "https://localhost:8080/"
    },
    "executionInfo": {
     "elapsed": 1846573,
     "status": "ok",
     "timestamp": 1620709697337,
     "user": {
      "displayName": "Yessine Khanfir",
      "photoUrl": "",
      "userId": "05108825537813101328"
     },
     "user_tz": -120
    },
    "id": "rsS4mNbGu23g",
    "outputId": "df553202-3c5d-4373-80e6-198e4d933e31"
   },
   "outputs": [
    {
     "name": "stdout",
     "output_type": "stream",
     "text": [
      "orange is the best provider : \n",
      " Positive\n"
     ]
    }
   ],
   "source": [
    "pred_sentences = ['orange is the best provider']\n",
    "tf_batch = tokenizer(pred_sentences, max_length=128, padding=True, truncation=True, return_tensors='tf')\n",
    "tf_outputs = model(tf_batch)\n",
    "tf_predictions = tf.nn.softmax(tf_outputs[0], axis=-1)\n",
    "labels = ['Negative','Positive']\n",
    "label = tf.argmax(tf_predictions, axis=1)\n",
    "label = label.numpy()\n",
    "for i in range(len(pred_sentences)):\n",
    "    print(pred_sentences[i], \": \\n\", labels[label[i]])"
   ]
  },
  {
   "cell_type": "code",
   "execution_count": 33,
   "metadata": {
    "executionInfo": {
     "elapsed": 1845885,
     "status": "ok",
     "timestamp": 1620709697338,
     "user": {
      "displayName": "Yessine Khanfir",
      "photoUrl": "",
      "userId": "05108825537813101328"
     },
     "user_tz": -120
    },
    "id": "ijw-AqtmjRPo"
   },
   "outputs": [],
   "source": [
    "from sklearn.metrics import confusion_matrix, classification_report,precision_score,accuracy_score,f1_score\n",
    "from sklearn import metrics\n",
    "import matplotlib.pyplot as plt\n",
    "import seaborn as sns\n",
    "import numpy as np"
   ]
  },
  {
   "cell_type": "code",
   "execution_count": 34,
   "metadata": {
    "executionInfo": {
     "elapsed": 1845200,
     "status": "ok",
     "timestamp": 1620709697338,
     "user": {
      "displayName": "Yessine Khanfir",
      "photoUrl": "",
      "userId": "05108825537813101328"
     },
     "user_tz": -120
    },
    "id": "zBH_ngKnp1ej"
   },
   "outputs": [],
   "source": [
    "trueSTR = test.copy()\n",
    "trueSTR.loc[test['LABEL_COLUMN'] == 0, 'LABEL_COLUMN'] = 'negative'\n",
    "trueSTR.loc[test['LABEL_COLUMN'] == 1, 'LABEL_COLUMN'] = 'positive'"
   ]
  },
  {
   "cell_type": "code",
   "execution_count": 35,
   "metadata": {
    "executionInfo": {
     "elapsed": 2069535,
     "status": "ok",
     "timestamp": 1620709933406,
     "user": {
      "displayName": "Yessine Khanfir",
      "photoUrl": "",
      "userId": "05108825537813101328"
     },
     "user_tz": -120
    },
    "id": "onZJXG7sqHxe"
   },
   "outputs": [],
   "source": [
    "predictedSTR =  []\n",
    "for i in range(len(test)):\n",
    "    pred_sentences = str(test.at[i,'DATA_COLUMN'])\n",
    "    tf_batch = tokenizer(pred_sentences, max_length=128, padding=True, truncation=True, return_tensors='tf')\n",
    "    tf_outputs = model(tf_batch)\n",
    "    tf_predictions = tf.nn.softmax(tf_outputs[0], axis=-1)\n",
    "    labels = [0,1]\n",
    "    label = tf.argmax(tf_predictions, axis=1)\n",
    "    label = label.numpy()\n",
    "    if labels[label[0]] == 0:\n",
    "        predictedSTR.append('negative')\n",
    "    else:\n",
    "        predictedSTR.append('positive')"
   ]
  },
  {
   "cell_type": "code",
   "execution_count": 36,
   "metadata": {
    "executionInfo": {
     "elapsed": 2304164,
     "status": "ok",
     "timestamp": 1620710168375,
     "user": {
      "displayName": "Yessine Khanfir",
      "photoUrl": "",
      "userId": "05108825537813101328"
     },
     "user_tz": -120
    },
    "id": "vlGKS7WGqJqY"
   },
   "outputs": [],
   "source": [
    "predictedINT =  []\n",
    "for i in range(len(test)):\n",
    "    pred_sentences = str(test.at[i,'DATA_COLUMN'])\n",
    "    tf_batch = tokenizer(pred_sentences, max_length=128, padding=True, truncation=True, return_tensors='tf')\n",
    "    tf_outputs = model(tf_batch)\n",
    "    tf_predictions = tf.nn.softmax(tf_outputs[0], axis=-1)\n",
    "    labels = [0,1]\n",
    "    label = tf.argmax(tf_predictions, axis=1)\n",
    "    label = label.numpy()\n",
    "    predictedINT.append(labels[label[0]]) "
   ]
  },
  {
   "cell_type": "code",
   "execution_count": 37,
   "metadata": {
    "colab": {
     "base_uri": "https://localhost:8080/",
     "height": 300
    },
    "executionInfo": {
     "elapsed": 2303561,
     "status": "ok",
     "timestamp": 1620710168967,
     "user": {
      "displayName": "Yessine Khanfir",
      "photoUrl": "",
      "userId": "05108825537813101328"
     },
     "user_tz": -120
    },
    "id": "-ZTYLGUkqMxF",
    "outputId": "1c7fd6f4-7a83-4da6-d54a-5bf72d8e5db7"
   },
   "outputs": [
    {
     "data": {
      "image/png": "[encoded data removed]",
      "text/plain": [
       "<Figure size 432x288 with 2 Axes>"
      ]
     },
     "metadata": {
      "needs_background": "light",
      "tags": []
     },
     "output_type": "display_data"
    }
   ],
   "source": [
    "class_names = [\"positive\", \"negative\"]\n",
    "def show_confusion_matrix(confusion_matrix):\n",
    "    hmap = sns.heatmap(confusion_matrix, annot=True, fmt=\"d\", cmap=\"Blues\")\n",
    "    hmap.yaxis.set_ticklabels(hmap.yaxis.get_ticklabels(), rotation=0, ha='right')\n",
    "    hmap.xaxis.set_ticklabels(hmap.xaxis.get_ticklabels(), rotation=30, ha='right')\n",
    "    plt.ylabel('True sentiment')\n",
    "    plt.xlabel('Predicted sentiment');\n",
    "cm = confusion_matrix(trueSTR['LABEL_COLUMN'], predictedSTR)\n",
    "df_cm = pd.DataFrame(cm, index=class_names, columns=class_names)\n",
    "show_confusion_matrix(df_cm)"
   ]
  },
  {
   "cell_type": "code",
   "execution_count": 38,
   "metadata": {
    "colab": {
     "base_uri": "https://localhost:8080/"
    },
    "executionInfo": {
     "elapsed": 2303099,
     "status": "ok",
     "timestamp": 1620710168969,
     "user": {
      "displayName": "Yessine Khanfir",
      "photoUrl": "",
      "userId": "05108825537813101328"
     },
     "user_tz": -120
    },
    "id": "eCBa6QpEqNs1",
    "outputId": "5fbe0a25-db70-43c5-f6a5-d4edd26e7205"
   },
   "outputs": [
    {
     "name": "stdout",
     "output_type": "stream",
     "text": [
      "              precision    recall  f1-score   support\n",
      "\n",
      "    positive       0.57      0.51      0.54      1010\n",
      "    negative       0.55      0.61      0.58       990\n",
      "\n",
      "    accuracy                           0.56      2000\n",
      "   macro avg       0.56      0.56      0.56      2000\n",
      "weighted avg       0.56      0.56      0.56      2000\n",
      "\n"
     ]
    }
   ],
   "source": [
    "print(classification_report(trueSTR['LABEL_COLUMN'], predictedSTR, target_names = class_names))"
   ]
  },
  {
   "cell_type": "code",
   "execution_count": 39,
   "metadata": {
    "colab": {
     "base_uri": "https://localhost:8080/"
    },
    "executionInfo": {
     "elapsed": 2302243,
     "status": "ok",
     "timestamp": 1620710168970,
     "user": {
      "displayName": "Yessine Khanfir",
      "photoUrl": "",
      "userId": "05108825537813101328"
     },
     "user_tz": -120
    },
    "id": "6V5TZW4I6aRB",
    "outputId": "508c76a9-f1f0-484f-ca6c-d75423b507c3"
   },
   "outputs": [
    {
     "name": "stdout",
     "output_type": "stream",
     "text": [
      "Model: \"tf_bert_for_sequence_classification\"\n",
      "_________________________________________________________________\n",
      "Layer (type)                 Output Shape              Param #   \n",
      "=================================================================\n",
      "bert (TFBertMainLayer)       multiple                  109482240 \n",
      "_________________________________________________________________\n",
      "dropout_37 (Dropout)         multiple                  0         \n",
      "_________________________________________________________________\n",
      "classifier (Dense)           multiple                  1538      \n",
      "=================================================================\n",
      "Total params: 109,483,778\n",
      "Trainable params: 109,483,778\n",
      "Non-trainable params: 0\n",
      "_________________________________________________________________\n"
     ]
    }
   ],
   "source": [
    "model.summary()"
   ]
  },
  {
   "cell_type": "code",
   "execution_count": null,
   "metadata": {
    "id": "J2b5wQMcOluE"
   },
   "outputs": [],
   "source": [
    ""
   ]
  },
  {
   "cell_type": "code",
   "execution_count": null,
   "metadata": {
    "id": "c-T4v0JsRGCI"
   },
   "outputs": [],
   "source": [
    ""
   ]
  },
  {
   "cell_type": "code",
   "execution_count": null,
   "metadata": {
    "id": "N67yIRFjRIbB"
   },
   "outputs": [],
   "source": [
    ""
   ]
  }
 ],
 "metadata": {
  "accelerator": "GPU",
  "colab": {
   "collapsed_sections": [],
   "name": "final_bert_transfer_learning-english.ipynb",
   "provenance": [],
   "toc_visible": true
  },
  "kernelspec": {
   "display_name": "Python 3",
   "name": "python3"
  },
  "language_info": {
   "name": "python"
  },
  "widgets": {
   "application/vnd.jupyter.widget-state+json": {
    "00a636d388184c659f7428b7dd73bbb7": {
     "model_module": "@jupyter-widgets/controls",
     "model_name": "HBoxModel",
     "state": {
      "_dom_classes": [],
      "_model_module": "@jupyter-widgets/controls",
      "_model_module_version": "1.5.0",
      "_model_name": "HBoxModel",
      "_view_count": null,
      "_view_module": "@jupyter-widgets/controls",
      "_view_module_version": "1.5.0",
      "_view_name": "HBoxView",
      "box_style": "",
      "children": [
       "IPY_MODEL_4cc96fd73e174067bd5c9247949b2011",
       "IPY_MODEL_31e3c0ac951b4c52b33dba9f7cffd6c0"
      ],
      "layout": "IPY_MODEL_ebd8b0ed541f4beb83541ae97a5ab5e6"
     }
    },
    "0e88495d1e6e445b834945dd7d9fe329": {
     "model_module": "@jupyter-widgets/controls",
     "model_name": "HBoxModel",
     "state": {
      "_dom_classes": [],
      "_model_module": "@jupyter-widgets/controls",
      "_model_module_version": "1.5.0",
      "_model_name": "HBoxModel",
      "_view_count": null,
      "_view_module": "@jupyter-widgets/controls",
      "_view_module_version": "1.5.0",
      "_view_name": "HBoxView",
      "box_style": "",
      "children": [
       "IPY_MODEL_5e5ca49f7f7d4e5cacdf864ba64c7d68",
       "IPY_MODEL_95132af525404466bf824f99fc56e632"
      ],
      "layout": "IPY_MODEL_de7ffd7d117f4618a16eaad1835b9dd2"
     }
    },
    "1d9ef03ff3684cb4a9f1d05c07ea9975": {
     "model_module": "@jupyter-widgets/controls",
     "model_name": "DescriptionStyleModel",
     "state": {
      "_model_module": "@jupyter-widgets/controls",
      "_model_module_version": "1.5.0",
      "_model_name": "DescriptionStyleModel",
      "_view_count": null,
      "_view_module": "@jupyter-widgets/base",
      "_view_module_version": "1.2.0",
      "_view_name": "StyleView",
      "description_width": ""
     }
    },
    "23cef9cdc0d645b78a5ae4dd65f531dc": {
     "model_module": "@jupyter-widgets/base",
     "model_name": "LayoutModel",
     "state": {
      "_model_module": "@jupyter-widgets/base",
      "_model_module_version": "1.2.0",
      "_model_name": "LayoutModel",
      "_view_count": null,
      "_view_module": "@jupyter-widgets/base",
      "_view_module_version": "1.2.0",
      "_view_name": "LayoutView",
      "align_content": null,
      "align_items": null,
      "align_self": null,
      "border": null,
      "bottom": null,
      "display": null,
      "flex": null,
      "flex_flow": null,
      "grid_area": null,
      "grid_auto_columns": null,
      "grid_auto_flow": null,
      "grid_auto_rows": null,
      "grid_column": null,
      "grid_gap": null,
      "grid_row": null,
      "grid_template_areas": null,
      "grid_template_columns": null,
      "grid_template_rows": null,
      "height": null,
      "justify_content": null,
      "justify_items": null,
      "left": null,
      "margin": null,
      "max_height": null,
      "max_width": null,
      "min_height": null,
      "min_width": null,
      "object_fit": null,
      "object_position": null,
      "order": null,
      "overflow": null,
      "overflow_x": null,
      "overflow_y": null,
      "padding": null,
      "right": null,
      "top": null,
      "visibility": null,
      "width": null
     }
    },
    "31e3c0ac951b4c52b33dba9f7cffd6c0": {
     "model_module": "@jupyter-widgets/controls",
     "model_name": "HTMLModel",
     "state": {
      "_dom_classes": [],
      "_model_module": "@jupyter-widgets/controls",
      "_model_module_version": "1.5.0",
      "_model_name": "HTMLModel",
      "_view_count": null,
      "_view_module": "@jupyter-widgets/controls",
      "_view_module_version": "1.5.0",
      "_view_name": "HTMLView",
      "description": "",
      "description_tooltip": null,
      "layout": "IPY_MODEL_85e355d49e3245fe91ee37fc540dd575",
      "placeholder": "​",
      "style": "IPY_MODEL_d588ebb0fb54499abbf2ce588d0fcfdc",
      "value": " 232k/232k [00:00&lt;00:00, 679kB/s]"
     }
    },
    "3883ab513cc645c5afa6ab7dd6fea2c0": {
     "model_module": "@jupyter-widgets/controls",
     "model_name": "ProgressStyleModel",
     "state": {
      "_model_module": "@jupyter-widgets/controls",
      "_model_module_version": "1.5.0",
      "_model_name": "ProgressStyleModel",
      "_view_count": null,
      "_view_module": "@jupyter-widgets/base",
      "_view_module_version": "1.2.0",
      "_view_name": "StyleView",
      "bar_color": null,
      "description_width": "initial"
     }
    },
    "3dc6419fd9ce4c8d9a8d369a3fa5981b": {
     "model_module": "@jupyter-widgets/base",
     "model_name": "LayoutModel",
     "state": {
      "_model_module": "@jupyter-widgets/base",
      "_model_module_version": "1.2.0",
      "_model_name": "LayoutModel",
      "_view_count": null,
      "_view_module": "@jupyter-widgets/base",
      "_view_module_version": "1.2.0",
      "_view_name": "LayoutView",
      "align_content": null,
      "align_items": null,
      "align_self": null,
      "border": null,
      "bottom": null,
      "display": null,
      "flex": null,
      "flex_flow": null,
      "grid_area": null,
      "grid_auto_columns": null,
      "grid_auto_flow": null,
      "grid_auto_rows": null,
      "grid_column": null,
      "grid_gap": null,
      "grid_row": null,
      "grid_template_areas": null,
      "grid_template_columns": null,
      "grid_template_rows": null,
      "height": null,
      "justify_content": null,
      "justify_items": null,
      "left": null,
      "margin": null,
      "max_height": null,
      "max_width": null,
      "min_height": null,
      "min_width": null,
      "object_fit": null,
      "object_position": null,
      "order": null,
      "overflow": null,
      "overflow_x": null,
      "overflow_y": null,
      "padding": null,
      "right": null,
      "top": null,
      "visibility": null,
      "width": null
     }
    },
    "428d91b06df248d99d79818a2e0e6933": {
     "model_module": "@jupyter-widgets/controls",
     "model_name": "HTMLModel",
     "state": {
      "_dom_classes": [],
      "_model_module": "@jupyter-widgets/controls",
      "_model_module_version": "1.5.0",
      "_model_name": "HTMLModel",
      "_view_count": null,
      "_view_module": "@jupyter-widgets/controls",
      "_view_module_version": "1.5.0",
      "_view_name": "HTMLView",
      "description": "",
      "description_tooltip": null,
      "layout": "IPY_MODEL_96960d5028fa4a6e9e570c64e99b4e52",
      "placeholder": "​",
      "style": "IPY_MODEL_1d9ef03ff3684cb4a9f1d05c07ea9975",
      "value": " 28.0/28.0 [00:00&lt;00:00, 139B/s]"
     }
    },
    "49d3646e2305419aad48017a7d768e96": {
     "model_module": "@jupyter-widgets/controls",
     "model_name": "DescriptionStyleModel",
     "state": {
      "_model_module": "@jupyter-widgets/controls",
      "_model_module_version": "1.5.0",
      "_model_name": "DescriptionStyleModel",
      "_view_count": null,
      "_view_module": "@jupyter-widgets/base",
      "_view_module_version": "1.2.0",
      "_view_name": "StyleView",
      "description_width": ""
     }
    },
    "4cc96fd73e174067bd5c9247949b2011": {
     "model_module": "@jupyter-widgets/controls",
     "model_name": "FloatProgressModel",
     "state": {
      "_dom_classes": [],
      "_model_module": "@jupyter-widgets/controls",
      "_model_module_version": "1.5.0",
      "_model_name": "FloatProgressModel",
      "_view_count": null,
      "_view_module": "@jupyter-widgets/controls",
      "_view_module_version": "1.5.0",
      "_view_name": "ProgressView",
      "bar_style": "success",
      "description": "Downloading: 100%",
      "description_tooltip": null,
      "layout": "IPY_MODEL_501df631eddc41eaa19b0586cb27821d",
      "max": 231508,
      "min": 0,
      "orientation": "horizontal",
      "style": "IPY_MODEL_3883ab513cc645c5afa6ab7dd6fea2c0",
      "value": 231508
     }
    },
    "4dba7fd62e12409fbf43981b71706606": {
     "model_module": "@jupyter-widgets/controls",
     "model_name": "HBoxModel",
     "state": {
      "_dom_classes": [],
      "_model_module": "@jupyter-widgets/controls",
      "_model_module_version": "1.5.0",
      "_model_name": "HBoxModel",
      "_view_count": null,
      "_view_module": "@jupyter-widgets/controls",
      "_view_module_version": "1.5.0",
      "_view_name": "HBoxView",
      "box_style": "",
      "children": [
       "IPY_MODEL_ed23c7dec90846af909bb99c0ab90b63",
       "IPY_MODEL_db9c21ba13fb4203b057fe13a0eb72a2"
      ],
      "layout": "IPY_MODEL_a41e5020477f437da8c008e1c148779b"
     }
    },
    "501df631eddc41eaa19b0586cb27821d": {
     "model_module": "@jupyter-widgets/base",
     "model_name": "LayoutModel",
     "state": {
      "_model_module": "@jupyter-widgets/base",
      "_model_module_version": "1.2.0",
      "_model_name": "LayoutModel",
      "_view_count": null,
      "_view_module": "@jupyter-widgets/base",
      "_view_module_version": "1.2.0",
      "_view_name": "LayoutView",
      "align_content": null,
      "align_items": null,
      "align_self": null,
      "border": null,
      "bottom": null,
      "display": null,
      "flex": null,
      "flex_flow": null,
      "grid_area": null,
      "grid_auto_columns": null,
      "grid_auto_flow": null,
      "grid_auto_rows": null,
      "grid_column": null,
      "grid_gap": null,
      "grid_row": null,
      "grid_template_areas": null,
      "grid_template_columns": null,
      "grid_template_rows": null,
      "height": null,
      "justify_content": null,
      "justify_items": null,
      "left": null,
      "margin": null,
      "max_height": null,
      "max_width": null,
      "min_height": null,
      "min_width": null,
      "object_fit": null,
      "object_position": null,
      "order": null,
      "overflow": null,
      "overflow_x": null,
      "overflow_y": null,
      "padding": null,
      "right": null,
      "top": null,
      "visibility": null,
      "width": null
     }
    },
    "5e5ca49f7f7d4e5cacdf864ba64c7d68": {
     "model_module": "@jupyter-widgets/controls",
     "model_name": "FloatProgressModel",
     "state": {
      "_dom_classes": [],
      "_model_module": "@jupyter-widgets/controls",
      "_model_module_version": "1.5.0",
      "_model_name": "FloatProgressModel",
      "_view_count": null,
      "_view_module": "@jupyter-widgets/controls",
      "_view_module_version": "1.5.0",
      "_view_name": "ProgressView",
      "bar_style": "danger",
      "description": "Training  :  35%",
      "description_tooltip": null,
      "layout": "IPY_MODEL_3dc6419fd9ce4c8d9a8d369a3fa5981b",
      "max": 167,
      "min": 0,
      "orientation": "horizontal",
      "style": "IPY_MODEL_e974f1c3811646539b3e22fc9e2e860b",
      "value": 58
     }
    },
    "6aaaa6d7b58b48489fc725656abb987f": {
     "model_module": "@jupyter-widgets/controls",
     "model_name": "HBoxModel",
     "state": {
      "_dom_classes": [],
      "_model_module": "@jupyter-widgets/controls",
      "_model_module_version": "1.5.0",
      "_model_name": "HBoxModel",
      "_view_count": null,
      "_view_module": "@jupyter-widgets/controls",
      "_view_module_version": "1.5.0",
      "_view_name": "HBoxView",
      "box_style": "",
      "children": [
       "IPY_MODEL_7cc68d4d05b4490081880c1ce37daed0",
       "IPY_MODEL_9ddce4eb687345dbb9779a0412187842"
      ],
      "layout": "IPY_MODEL_ac2b3ba563e94dd98a57ab9bf0878eb0"
     }
    },
    "6c14ad6623d74c5c857ad11d6279ef88": {
     "model_module": "@jupyter-widgets/base",
     "model_name": "LayoutModel",
     "state": {
      "_model_module": "@jupyter-widgets/base",
      "_model_module_version": "1.2.0",
      "_model_name": "LayoutModel",
      "_view_count": null,
      "_view_module": "@jupyter-widgets/base",
      "_view_module_version": "1.2.0",
      "_view_name": "LayoutView",
      "align_content": null,
      "align_items": null,
      "align_self": null,
      "border": null,
      "bottom": null,
      "display": null,
      "flex": null,
      "flex_flow": null,
      "grid_area": null,
      "grid_auto_columns": null,
      "grid_auto_flow": null,
      "grid_auto_rows": null,
      "grid_column": null,
      "grid_gap": null,
      "grid_row": null,
      "grid_template_areas": null,
      "grid_template_columns": null,
      "grid_template_rows": null,
      "height": null,
      "justify_content": null,
      "justify_items": null,
      "left": null,
      "margin": null,
      "max_height": null,
      "max_width": null,
      "min_height": null,
      "min_width": null,
      "object_fit": null,
      "object_position": null,
      "order": null,
      "overflow": null,
      "overflow_x": null,
      "overflow_y": null,
      "padding": null,
      "right": null,
      "top": null,
      "visibility": null,
      "width": null
     }
    },
    "6c916d2789524ba59913fb87ad3906b3": {
     "model_module": "@jupyter-widgets/controls",
     "model_name": "DescriptionStyleModel",
     "state": {
      "_model_module": "@jupyter-widgets/controls",
      "_model_module_version": "1.5.0",
      "_model_name": "DescriptionStyleModel",
      "_view_count": null,
      "_view_module": "@jupyter-widgets/base",
      "_view_module_version": "1.2.0",
      "_view_name": "StyleView",
      "description_width": ""
     }
    },
    "709bc391fe1344868c0f656215421b16": {
     "model_module": "@jupyter-widgets/controls",
     "model_name": "FloatProgressModel",
     "state": {
      "_dom_classes": [],
      "_model_module": "@jupyter-widgets/controls",
      "_model_module_version": "1.5.0",
      "_model_name": "FloatProgressModel",
      "_view_count": null,
      "_view_module": "@jupyter-widgets/controls",
      "_view_module_version": "1.5.0",
      "_view_name": "ProgressView",
      "bar_style": "success",
      "description": "Downloading: 100%",
      "description_tooltip": null,
      "layout": "IPY_MODEL_d0e3bb83255a4597beaa64462e3da01f",
      "max": 466062,
      "min": 0,
      "orientation": "horizontal",
      "style": "IPY_MODEL_b3bf119541bb4888bdc1f573184d4466",
      "value": 466062
     }
    },
    "7cc68d4d05b4490081880c1ce37daed0": {
     "model_module": "@jupyter-widgets/controls",
     "model_name": "FloatProgressModel",
     "state": {
      "_dom_classes": [],
      "_model_module": "@jupyter-widgets/controls",
      "_model_module_version": "1.5.0",
      "_model_name": "FloatProgressModel",
      "_view_count": null,
      "_view_module": "@jupyter-widgets/controls",
      "_view_module_version": "1.5.0",
      "_view_name": "ProgressView",
      "bar_style": "success",
      "description": "Downloading: 100%",
      "description_tooltip": null,
      "layout": "IPY_MODEL_6c14ad6623d74c5c857ad11d6279ef88",
      "max": 536063208,
      "min": 0,
      "orientation": "horizontal",
      "style": "IPY_MODEL_b57bc9a4cbcc4214a6a414b18caf2fba",
      "value": 536063208
     }
    },
    "7f978374ca2f4475910451f9c0efed71": {
     "model_module": "@jupyter-widgets/base",
     "model_name": "LayoutModel",
     "state": {
      "_model_module": "@jupyter-widgets/base",
      "_model_module_version": "1.2.0",
      "_model_name": "LayoutModel",
      "_view_count": null,
      "_view_module": "@jupyter-widgets/base",
      "_view_module_version": "1.2.0",
      "_view_name": "LayoutView",
      "align_content": null,
      "align_items": null,
      "align_self": null,
      "border": null,
      "bottom": null,
      "display": null,
      "flex": null,
      "flex_flow": null,
      "grid_area": null,
      "grid_auto_columns": null,
      "grid_auto_flow": null,
      "grid_auto_rows": null,
      "grid_column": null,
      "grid_gap": null,
      "grid_row": null,
      "grid_template_areas": null,
      "grid_template_columns": null,
      "grid_template_rows": null,
      "height": null,
      "justify_content": null,
      "justify_items": null,
      "left": null,
      "margin": null,
      "max_height": null,
      "max_width": null,
      "min_height": null,
      "min_width": null,
      "object_fit": null,
      "object_position": null,
      "order": null,
      "overflow": null,
      "overflow_x": null,
      "overflow_y": null,
      "padding": null,
      "right": null,
      "top": null,
      "visibility": null,
      "width": null
     }
    },
    "80a935d55caa4582a0f8c1dedc07403e": {
     "model_module": "@jupyter-widgets/controls",
     "model_name": "DescriptionStyleModel",
     "state": {
      "_model_module": "@jupyter-widgets/controls",
      "_model_module_version": "1.5.0",
      "_model_name": "DescriptionStyleModel",
      "_view_count": null,
      "_view_module": "@jupyter-widgets/base",
      "_view_module_version": "1.2.0",
      "_view_name": "StyleView",
      "description_width": ""
     }
    },
    "816d6b2218804bba9d12de5a3ca819f6": {
     "model_module": "@jupyter-widgets/controls",
     "model_name": "HBoxModel",
     "state": {
      "_dom_classes": [],
      "_model_module": "@jupyter-widgets/controls",
      "_model_module_version": "1.5.0",
      "_model_name": "HBoxModel",
      "_view_count": null,
      "_view_module": "@jupyter-widgets/controls",
      "_view_module_version": "1.5.0",
      "_view_name": "HBoxView",
      "box_style": "",
      "children": [
       "IPY_MODEL_a42f9751f37641c28701c54e59db8344",
       "IPY_MODEL_428d91b06df248d99d79818a2e0e6933"
      ],
      "layout": "IPY_MODEL_cf3e038adbff49fe93d2ba3997e180c4"
     }
    },
    "852bd768f9d14f429d7a3c25df40b902": {
     "model_module": "@jupyter-widgets/controls",
     "model_name": "ProgressStyleModel",
     "state": {
      "_model_module": "@jupyter-widgets/controls",
      "_model_module_version": "1.5.0",
      "_model_name": "ProgressStyleModel",
      "_view_count": null,
      "_view_module": "@jupyter-widgets/base",
      "_view_module_version": "1.2.0",
      "_view_name": "StyleView",
      "bar_color": null,
      "description_width": "initial"
     }
    },
    "85e355d49e3245fe91ee37fc540dd575": {
     "model_module": "@jupyter-widgets/base",
     "model_name": "LayoutModel",
     "state": {
      "_model_module": "@jupyter-widgets/base",
      "_model_module_version": "1.2.0",
      "_model_name": "LayoutModel",
      "_view_count": null,
      "_view_module": "@jupyter-widgets/base",
      "_view_module_version": "1.2.0",
      "_view_name": "LayoutView",
      "align_content": null,
      "align_items": null,
      "align_self": null,
      "border": null,
      "bottom": null,
      "display": null,
      "flex": null,
      "flex_flow": null,
      "grid_area": null,
      "grid_auto_columns": null,
      "grid_auto_flow": null,
      "grid_auto_rows": null,
      "grid_column": null,
      "grid_gap": null,
      "grid_row": null,
      "grid_template_areas": null,
      "grid_template_columns": null,
      "grid_template_rows": null,
      "height": null,
      "justify_content": null,
      "justify_items": null,
      "left": null,
      "margin": null,
      "max_height": null,
      "max_width": null,
      "min_height": null,
      "min_width": null,
      "object_fit": null,
      "object_position": null,
      "order": null,
      "overflow": null,
      "overflow_x": null,
      "overflow_y": null,
      "padding": null,
      "right": null,
      "top": null,
      "visibility": null,
      "width": null
     }
    },
    "95132af525404466bf824f99fc56e632": {
     "model_module": "@jupyter-widgets/controls",
     "model_name": "HTMLModel",
     "state": {
      "_dom_classes": [],
      "_model_module": "@jupyter-widgets/controls",
      "_model_module_version": "1.5.0",
      "_model_name": "HTMLModel",
      "_view_count": null,
      "_view_module": "@jupyter-widgets/controls",
      "_view_module_version": "1.5.0",
      "_view_name": "HTMLView",
      "description": "",
      "description_tooltip": null,
      "layout": "IPY_MODEL_d4954d9e0bdb4145b28c5d30bd0c338c",
      "placeholder": "​",
      "style": "IPY_MODEL_80a935d55caa4582a0f8c1dedc07403e",
      "value": " 58/167 [00:29&lt;00:52,  2.06it/s, loss=0.702]"
     }
    },
    "96960d5028fa4a6e9e570c64e99b4e52": {
     "model_module": "@jupyter-widgets/base",
     "model_name": "LayoutModel",
     "state": {
      "_model_module": "@jupyter-widgets/base",
      "_model_module_version": "1.2.0",
      "_model_name": "LayoutModel",
      "_view_count": null,
      "_view_module": "@jupyter-widgets/base",
      "_view_module_version": "1.2.0",
      "_view_name": "LayoutView",
      "align_content": null,
      "align_items": null,
      "align_self": null,
      "border": null,
      "bottom": null,
      "display": null,
      "flex": null,
      "flex_flow": null,
      "grid_area": null,
      "grid_auto_columns": null,
      "grid_auto_flow": null,
      "grid_auto_rows": null,
      "grid_column": null,
      "grid_gap": null,
      "grid_row": null,
      "grid_template_areas": null,
      "grid_template_columns": null,
      "grid_template_rows": null,
      "height": null,
      "justify_content": null,
      "justify_items": null,
      "left": null,
      "margin": null,
      "max_height": null,
      "max_width": null,
      "min_height": null,
      "min_width": null,
      "object_fit": null,
      "object_position": null,
      "order": null,
      "overflow": null,
      "overflow_x": null,
      "overflow_y": null,
      "padding": null,
      "right": null,
      "top": null,
      "visibility": null,
      "width": null
     }
    },
    "9993782767dd4f9fbb9fa40582c9c553": {
     "model_module": "@jupyter-widgets/base",
     "model_name": "LayoutModel",
     "state": {
      "_model_module": "@jupyter-widgets/base",
      "_model_module_version": "1.2.0",
      "_model_name": "LayoutModel",
      "_view_count": null,
      "_view_module": "@jupyter-widgets/base",
      "_view_module_version": "1.2.0",
      "_view_name": "LayoutView",
      "align_content": null,
      "align_items": null,
      "align_self": null,
      "border": null,
      "bottom": null,
      "display": null,
      "flex": null,
      "flex_flow": null,
      "grid_area": null,
      "grid_auto_columns": null,
      "grid_auto_flow": null,
      "grid_auto_rows": null,
      "grid_column": null,
      "grid_gap": null,
      "grid_row": null,
      "grid_template_areas": null,
      "grid_template_columns": null,
      "grid_template_rows": null,
      "height": null,
      "justify_content": null,
      "justify_items": null,
      "left": null,
      "margin": null,
      "max_height": null,
      "max_width": null,
      "min_height": null,
      "min_width": null,
      "object_fit": null,
      "object_position": null,
      "order": null,
      "overflow": null,
      "overflow_x": null,
      "overflow_y": null,
      "padding": null,
      "right": null,
      "top": null,
      "visibility": null,
      "width": null
     }
    },
    "9ddce4eb687345dbb9779a0412187842": {
     "model_module": "@jupyter-widgets/controls",
     "model_name": "HTMLModel",
     "state": {
      "_dom_classes": [],
      "_model_module": "@jupyter-widgets/controls",
      "_model_module_version": "1.5.0",
      "_model_name": "HTMLModel",
      "_view_count": null,
      "_view_module": "@jupyter-widgets/controls",
      "_view_module_version": "1.5.0",
      "_view_name": "HTMLView",
      "description": "",
      "description_tooltip": null,
      "layout": "IPY_MODEL_d3fef04af3294bf1aaa71aa1cc35bbb5",
      "placeholder": "​",
      "style": "IPY_MODEL_6c916d2789524ba59913fb87ad3906b3",
      "value": " 536M/536M [01:31&lt;00:00, 5.83MB/s]"
     }
    },
    "a22c1066e773474f932a7e818e0daee0": {
     "model_module": "@jupyter-widgets/base",
     "model_name": "LayoutModel",
     "state": {
      "_model_module": "@jupyter-widgets/base",
      "_model_module_version": "1.2.0",
      "_model_name": "LayoutModel",
      "_view_count": null,
      "_view_module": "@jupyter-widgets/base",
      "_view_module_version": "1.2.0",
      "_view_name": "LayoutView",
      "align_content": null,
      "align_items": null,
      "align_self": null,
      "border": null,
      "bottom": null,
      "display": null,
      "flex": null,
      "flex_flow": null,
      "grid_area": null,
      "grid_auto_columns": null,
      "grid_auto_flow": null,
      "grid_auto_rows": null,
      "grid_column": null,
      "grid_gap": null,
      "grid_row": null,
      "grid_template_areas": null,
      "grid_template_columns": null,
      "grid_template_rows": null,
      "height": null,
      "justify_content": null,
      "justify_items": null,
      "left": null,
      "margin": null,
      "max_height": null,
      "max_width": null,
      "min_height": null,
      "min_width": null,
      "object_fit": null,
      "object_position": null,
      "order": null,
      "overflow": null,
      "overflow_x": null,
      "overflow_y": null,
      "padding": null,
      "right": null,
      "top": null,
      "visibility": null,
      "width": null
     }
    },
    "a41e5020477f437da8c008e1c148779b": {
     "model_module": "@jupyter-widgets/base",
     "model_name": "LayoutModel",
     "state": {
      "_model_module": "@jupyter-widgets/base",
      "_model_module_version": "1.2.0",
      "_model_name": "LayoutModel",
      "_view_count": null,
      "_view_module": "@jupyter-widgets/base",
      "_view_module_version": "1.2.0",
      "_view_name": "LayoutView",
      "align_content": null,
      "align_items": null,
      "align_self": null,
      "border": null,
      "bottom": null,
      "display": null,
      "flex": null,
      "flex_flow": null,
      "grid_area": null,
      "grid_auto_columns": null,
      "grid_auto_flow": null,
      "grid_auto_rows": null,
      "grid_column": null,
      "grid_gap": null,
      "grid_row": null,
      "grid_template_areas": null,
      "grid_template_columns": null,
      "grid_template_rows": null,
      "height": null,
      "justify_content": null,
      "justify_items": null,
      "left": null,
      "margin": null,
      "max_height": null,
      "max_width": null,
      "min_height": null,
      "min_width": null,
      "object_fit": null,
      "object_position": null,
      "order": null,
      "overflow": null,
      "overflow_x": null,
      "overflow_y": null,
      "padding": null,
      "right": null,
      "top": null,
      "visibility": null,
      "width": null
     }
    },
    "a42f9751f37641c28701c54e59db8344": {
     "model_module": "@jupyter-widgets/controls",
     "model_name": "FloatProgressModel",
     "state": {
      "_dom_classes": [],
      "_model_module": "@jupyter-widgets/controls",
      "_model_module_version": "1.5.0",
      "_model_name": "FloatProgressModel",
      "_view_count": null,
      "_view_module": "@jupyter-widgets/controls",
      "_view_module_version": "1.5.0",
      "_view_name": "ProgressView",
      "bar_style": "success",
      "description": "Downloading: 100%",
      "description_tooltip": null,
      "layout": "IPY_MODEL_a22c1066e773474f932a7e818e0daee0",
      "max": 28,
      "min": 0,
      "orientation": "horizontal",
      "style": "IPY_MODEL_852bd768f9d14f429d7a3c25df40b902",
      "value": 28
     }
    },
    "a8eac3cad391479b8764fedcf0f03044": {
     "model_module": "@jupyter-widgets/controls",
     "model_name": "HTMLModel",
     "state": {
      "_dom_classes": [],
      "_model_module": "@jupyter-widgets/controls",
      "_model_module_version": "1.5.0",
      "_model_name": "HTMLModel",
      "_view_count": null,
      "_view_module": "@jupyter-widgets/controls",
      "_view_module_version": "1.5.0",
      "_view_name": "HTMLView",
      "description": "",
      "description_tooltip": null,
      "layout": "IPY_MODEL_9993782767dd4f9fbb9fa40582c9c553",
      "placeholder": "​",
      "style": "IPY_MODEL_49d3646e2305419aad48017a7d768e96",
      "value": " 466k/466k [00:00&lt;00:00, 4.49MB/s]"
     }
    },
    "ac2b3ba563e94dd98a57ab9bf0878eb0": {
     "model_module": "@jupyter-widgets/base",
     "model_name": "LayoutModel",
     "state": {
      "_model_module": "@jupyter-widgets/base",
      "_model_module_version": "1.2.0",
      "_model_name": "LayoutModel",
      "_view_count": null,
      "_view_module": "@jupyter-widgets/base",
      "_view_module_version": "1.2.0",
      "_view_name": "LayoutView",
      "align_content": null,
      "align_items": null,
      "align_self": null,
      "border": null,
      "bottom": null,
      "display": null,
      "flex": null,
      "flex_flow": null,
      "grid_area": null,
      "grid_auto_columns": null,
      "grid_auto_flow": null,
      "grid_auto_rows": null,
      "grid_column": null,
      "grid_gap": null,
      "grid_row": null,
      "grid_template_areas": null,
      "grid_template_columns": null,
      "grid_template_rows": null,
      "height": null,
      "justify_content": null,
      "justify_items": null,
      "left": null,
      "margin": null,
      "max_height": null,
      "max_width": null,
      "min_height": null,
      "min_width": null,
      "object_fit": null,
      "object_position": null,
      "order": null,
      "overflow": null,
      "overflow_x": null,
      "overflow_y": null,
      "padding": null,
      "right": null,
      "top": null,
      "visibility": null,
      "width": null
     }
    },
    "b38f0ea3e55a4f21ba515dfcbbdbcff6": {
     "model_module": "@jupyter-widgets/base",
     "model_name": "LayoutModel",
     "state": {
      "_model_module": "@jupyter-widgets/base",
      "_model_module_version": "1.2.0",
      "_model_name": "LayoutModel",
      "_view_count": null,
      "_view_module": "@jupyter-widgets/base",
      "_view_module_version": "1.2.0",
      "_view_name": "LayoutView",
      "align_content": null,
      "align_items": null,
      "align_self": null,
      "border": null,
      "bottom": null,
      "display": null,
      "flex": null,
      "flex_flow": null,
      "grid_area": null,
      "grid_auto_columns": null,
      "grid_auto_flow": null,
      "grid_auto_rows": null,
      "grid_column": null,
      "grid_gap": null,
      "grid_row": null,
      "grid_template_areas": null,
      "grid_template_columns": null,
      "grid_template_rows": null,
      "height": null,
      "justify_content": null,
      "justify_items": null,
      "left": null,
      "margin": null,
      "max_height": null,
      "max_width": null,
      "min_height": null,
      "min_width": null,
      "object_fit": null,
      "object_position": null,
      "order": null,
      "overflow": null,
      "overflow_x": null,
      "overflow_y": null,
      "padding": null,
      "right": null,
      "top": null,
      "visibility": null,
      "width": null
     }
    },
    "b3bf119541bb4888bdc1f573184d4466": {
     "model_module": "@jupyter-widgets/controls",
     "model_name": "ProgressStyleModel",
     "state": {
      "_model_module": "@jupyter-widgets/controls",
      "_model_module_version": "1.5.0",
      "_model_name": "ProgressStyleModel",
      "_view_count": null,
      "_view_module": "@jupyter-widgets/base",
      "_view_module_version": "1.2.0",
      "_view_name": "StyleView",
      "bar_color": null,
      "description_width": "initial"
     }
    },
    "b57bc9a4cbcc4214a6a414b18caf2fba": {
     "model_module": "@jupyter-widgets/controls",
     "model_name": "ProgressStyleModel",
     "state": {
      "_model_module": "@jupyter-widgets/controls",
      "_model_module_version": "1.5.0",
      "_model_name": "ProgressStyleModel",
      "_view_count": null,
      "_view_module": "@jupyter-widgets/base",
      "_view_module_version": "1.2.0",
      "_view_name": "StyleView",
      "bar_color": null,
      "description_width": "initial"
     }
    },
    "c1e5d355d047457fb04870586a2aca9f": {
     "model_module": "@jupyter-widgets/controls",
     "model_name": "ProgressStyleModel",
     "state": {
      "_model_module": "@jupyter-widgets/controls",
      "_model_module_version": "1.5.0",
      "_model_name": "ProgressStyleModel",
      "_view_count": null,
      "_view_module": "@jupyter-widgets/base",
      "_view_module_version": "1.2.0",
      "_view_name": "StyleView",
      "bar_color": null,
      "description_width": "initial"
     }
    },
    "cf3e038adbff49fe93d2ba3997e180c4": {
     "model_module": "@jupyter-widgets/base",
     "model_name": "LayoutModel",
     "state": {
      "_model_module": "@jupyter-widgets/base",
      "_model_module_version": "1.2.0",
      "_model_name": "LayoutModel",
      "_view_count": null,
      "_view_module": "@jupyter-widgets/base",
      "_view_module_version": "1.2.0",
      "_view_name": "LayoutView",
      "align_content": null,
      "align_items": null,
      "align_self": null,
      "border": null,
      "bottom": null,
      "display": null,
      "flex": null,
      "flex_flow": null,
      "grid_area": null,
      "grid_auto_columns": null,
      "grid_auto_flow": null,
      "grid_auto_rows": null,
      "grid_column": null,
      "grid_gap": null,
      "grid_row": null,
      "grid_template_areas": null,
      "grid_template_columns": null,
      "grid_template_rows": null,
      "height": null,
      "justify_content": null,
      "justify_items": null,
      "left": null,
      "margin": null,
      "max_height": null,
      "max_width": null,
      "min_height": null,
      "min_width": null,
      "object_fit": null,
      "object_position": null,
      "order": null,
      "overflow": null,
      "overflow_x": null,
      "overflow_y": null,
      "padding": null,
      "right": null,
      "top": null,
      "visibility": null,
      "width": null
     }
    },
    "d0e3bb83255a4597beaa64462e3da01f": {
     "model_module": "@jupyter-widgets/base",
     "model_name": "LayoutModel",
     "state": {
      "_model_module": "@jupyter-widgets/base",
      "_model_module_version": "1.2.0",
      "_model_name": "LayoutModel",
      "_view_count": null,
      "_view_module": "@jupyter-widgets/base",
      "_view_module_version": "1.2.0",
      "_view_name": "LayoutView",
      "align_content": null,
      "align_items": null,
      "align_self": null,
      "border": null,
      "bottom": null,
      "display": null,
      "flex": null,
      "flex_flow": null,
      "grid_area": null,
      "grid_auto_columns": null,
      "grid_auto_flow": null,
      "grid_auto_rows": null,
      "grid_column": null,
      "grid_gap": null,
      "grid_row": null,
      "grid_template_areas": null,
      "grid_template_columns": null,
      "grid_template_rows": null,
      "height": null,
      "justify_content": null,
      "justify_items": null,
      "left": null,
      "margin": null,
      "max_height": null,
      "max_width": null,
      "min_height": null,
      "min_width": null,
      "object_fit": null,
      "object_position": null,
      "order": null,
      "overflow": null,
      "overflow_x": null,
      "overflow_y": null,
      "padding": null,
      "right": null,
      "top": null,
      "visibility": null,
      "width": null
     }
    },
    "d3fef04af3294bf1aaa71aa1cc35bbb5": {
     "model_module": "@jupyter-widgets/base",
     "model_name": "LayoutModel",
     "state": {
      "_model_module": "@jupyter-widgets/base",
      "_model_module_version": "1.2.0",
      "_model_name": "LayoutModel",
      "_view_count": null,
      "_view_module": "@jupyter-widgets/base",
      "_view_module_version": "1.2.0",
      "_view_name": "LayoutView",
      "align_content": null,
      "align_items": null,
      "align_self": null,
      "border": null,
      "bottom": null,
      "display": null,
      "flex": null,
      "flex_flow": null,
      "grid_area": null,
      "grid_auto_columns": null,
      "grid_auto_flow": null,
      "grid_auto_rows": null,
      "grid_column": null,
      "grid_gap": null,
      "grid_row": null,
      "grid_template_areas": null,
      "grid_template_columns": null,
      "grid_template_rows": null,
      "height": null,
      "justify_content": null,
      "justify_items": null,
      "left": null,
      "margin": null,
      "max_height": null,
      "max_width": null,
      "min_height": null,
      "min_width": null,
      "object_fit": null,
      "object_position": null,
      "order": null,
      "overflow": null,
      "overflow_x": null,
      "overflow_y": null,
      "padding": null,
      "right": null,
      "top": null,
      "visibility": null,
      "width": null
     }
    },
    "d4954d9e0bdb4145b28c5d30bd0c338c": {
     "model_module": "@jupyter-widgets/base",
     "model_name": "LayoutModel",
     "state": {
      "_model_module": "@jupyter-widgets/base",
      "_model_module_version": "1.2.0",
      "_model_name": "LayoutModel",
      "_view_count": null,
      "_view_module": "@jupyter-widgets/base",
      "_view_module_version": "1.2.0",
      "_view_name": "LayoutView",
      "align_content": null,
      "align_items": null,
      "align_self": null,
      "border": null,
      "bottom": null,
      "display": null,
      "flex": null,
      "flex_flow": null,
      "grid_area": null,
      "grid_auto_columns": null,
      "grid_auto_flow": null,
      "grid_auto_rows": null,
      "grid_column": null,
      "grid_gap": null,
      "grid_row": null,
      "grid_template_areas": null,
      "grid_template_columns": null,
      "grid_template_rows": null,
      "height": null,
      "justify_content": null,
      "justify_items": null,
      "left": null,
      "margin": null,
      "max_height": null,
      "max_width": null,
      "min_height": null,
      "min_width": null,
      "object_fit": null,
      "object_position": null,
      "order": null,
      "overflow": null,
      "overflow_x": null,
      "overflow_y": null,
      "padding": null,
      "right": null,
      "top": null,
      "visibility": null,
      "width": null
     }
    },
    "d588ebb0fb54499abbf2ce588d0fcfdc": {
     "model_module": "@jupyter-widgets/controls",
     "model_name": "DescriptionStyleModel",
     "state": {
      "_model_module": "@jupyter-widgets/controls",
      "_model_module_version": "1.5.0",
      "_model_name": "DescriptionStyleModel",
      "_view_count": null,
      "_view_module": "@jupyter-widgets/base",
      "_view_module_version": "1.2.0",
      "_view_name": "StyleView",
      "description_width": ""
     }
    },
    "db9c21ba13fb4203b057fe13a0eb72a2": {
     "model_module": "@jupyter-widgets/controls",
     "model_name": "HTMLModel",
     "state": {
      "_dom_classes": [],
      "_model_module": "@jupyter-widgets/controls",
      "_model_module_version": "1.5.0",
      "_model_name": "HTMLModel",
      "_view_count": null,
      "_view_module": "@jupyter-widgets/controls",
      "_view_module_version": "1.5.0",
      "_view_name": "HTMLView",
      "description": "",
      "description_tooltip": null,
      "layout": "IPY_MODEL_7f978374ca2f4475910451f9c0efed71",
      "placeholder": "​",
      "style": "IPY_MODEL_e3b3919770ab4058bf38d19ec6386d3e",
      "value": " 570/570 [00:00&lt;00:00, 581B/s]"
     }
    },
    "de7ffd7d117f4618a16eaad1835b9dd2": {
     "model_module": "@jupyter-widgets/base",
     "model_name": "LayoutModel",
     "state": {
      "_model_module": "@jupyter-widgets/base",
      "_model_module_version": "1.2.0",
      "_model_name": "LayoutModel",
      "_view_count": null,
      "_view_module": "@jupyter-widgets/base",
      "_view_module_version": "1.2.0",
      "_view_name": "LayoutView",
      "align_content": null,
      "align_items": null,
      "align_self": null,
      "border": null,
      "bottom": null,
      "display": null,
      "flex": null,
      "flex_flow": null,
      "grid_area": null,
      "grid_auto_columns": null,
      "grid_auto_flow": null,
      "grid_auto_rows": null,
      "grid_column": null,
      "grid_gap": null,
      "grid_row": null,
      "grid_template_areas": null,
      "grid_template_columns": null,
      "grid_template_rows": null,
      "height": null,
      "justify_content": null,
      "justify_items": null,
      "left": null,
      "margin": null,
      "max_height": null,
      "max_width": null,
      "min_height": null,
      "min_width": null,
      "object_fit": null,
      "object_position": null,
      "order": null,
      "overflow": null,
      "overflow_x": null,
      "overflow_y": null,
      "padding": null,
      "right": null,
      "top": null,
      "visibility": null,
      "width": null
     }
    },
    "e3b3919770ab4058bf38d19ec6386d3e": {
     "model_module": "@jupyter-widgets/controls",
     "model_name": "DescriptionStyleModel",
     "state": {
      "_model_module": "@jupyter-widgets/controls",
      "_model_module_version": "1.5.0",
      "_model_name": "DescriptionStyleModel",
      "_view_count": null,
      "_view_module": "@jupyter-widgets/base",
      "_view_module_version": "1.2.0",
      "_view_name": "StyleView",
      "description_width": ""
     }
    },
    "e974f1c3811646539b3e22fc9e2e860b": {
     "model_module": "@jupyter-widgets/controls",
     "model_name": "ProgressStyleModel",
     "state": {
      "_model_module": "@jupyter-widgets/controls",
      "_model_module_version": "1.5.0",
      "_model_name": "ProgressStyleModel",
      "_view_count": null,
      "_view_module": "@jupyter-widgets/base",
      "_view_module_version": "1.2.0",
      "_view_name": "StyleView",
      "bar_color": null,
      "description_width": "initial"
     }
    },
    "ebd8b0ed541f4beb83541ae97a5ab5e6": {
     "model_module": "@jupyter-widgets/base",
     "model_name": "LayoutModel",
     "state": {
      "_model_module": "@jupyter-widgets/base",
      "_model_module_version": "1.2.0",
      "_model_name": "LayoutModel",
      "_view_count": null,
      "_view_module": "@jupyter-widgets/base",
      "_view_module_version": "1.2.0",
      "_view_name": "LayoutView",
      "align_content": null,
      "align_items": null,
      "align_self": null,
      "border": null,
      "bottom": null,
      "display": null,
      "flex": null,
      "flex_flow": null,
      "grid_area": null,
      "grid_auto_columns": null,
      "grid_auto_flow": null,
      "grid_auto_rows": null,
      "grid_column": null,
      "grid_gap": null,
      "grid_row": null,
      "grid_template_areas": null,
      "grid_template_columns": null,
      "grid_template_rows": null,
      "height": null,
      "justify_content": null,
      "justify_items": null,
      "left": null,
      "margin": null,
      "max_height": null,
      "max_width": null,
      "min_height": null,
      "min_width": null,
      "object_fit": null,
      "object_position": null,
      "order": null,
      "overflow": null,
      "overflow_x": null,
      "overflow_y": null,
      "padding": null,
      "right": null,
      "top": null,
      "visibility": null,
      "width": null
     }
    },
    "ed23c7dec90846af909bb99c0ab90b63": {
     "model_module": "@jupyter-widgets/controls",
     "model_name": "FloatProgressModel",
     "state": {
      "_dom_classes": [],
      "_model_module": "@jupyter-widgets/controls",
      "_model_module_version": "1.5.0",
      "_model_name": "FloatProgressModel",
      "_view_count": null,
      "_view_module": "@jupyter-widgets/controls",
      "_view_module_version": "1.5.0",
      "_view_name": "ProgressView",
      "bar_style": "success",
      "description": "Downloading: 100%",
      "description_tooltip": null,
      "layout": "IPY_MODEL_23cef9cdc0d645b78a5ae4dd65f531dc",
      "max": 570,
      "min": 0,
      "orientation": "horizontal",
      "style": "IPY_MODEL_c1e5d355d047457fb04870586a2aca9f",
      "value": 570
     }
    },
    "f2b4acb61c774ed9a3e5b371b159e679": {
     "model_module": "@jupyter-widgets/controls",
     "model_name": "HBoxModel",
     "state": {
      "_dom_classes": [],
      "_model_module": "@jupyter-widgets/controls",
      "_model_module_version": "1.5.0",
      "_model_name": "HBoxModel",
      "_view_count": null,
      "_view_module": "@jupyter-widgets/controls",
      "_view_module_version": "1.5.0",
      "_view_name": "HBoxView",
      "box_style": "",
      "children": [
       "IPY_MODEL_709bc391fe1344868c0f656215421b16",
       "IPY_MODEL_a8eac3cad391479b8764fedcf0f03044"
      ],
      "layout": "IPY_MODEL_b38f0ea3e55a4f21ba515dfcbbdbcff6"
     }
    }
   }
  }
 },
 "nbformat": 4,
 "nbformat_minor": 0
}
